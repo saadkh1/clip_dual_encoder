{
  "cells": [
    {
      "cell_type": "code",
      "execution_count": null,
      "id": "9ea6851a",
      "metadata": {
        "colab": {
          "base_uri": "https://localhost:8080/"
        },
        "execution": {
          "iopub.execute_input": "2022-07-23T11:22:37.495015Z",
          "iopub.status.busy": "2022-07-23T11:22:37.493890Z",
          "iopub.status.idle": "2022-07-23T11:22:44.741465Z",
          "shell.execute_reply": "2022-07-23T11:22:44.740607Z"
        },
        "id": "9ea6851a",
        "outputId": "6610e273-3d6a-4240-c2e5-df680107ae4c",
        "papermill": {
          "duration": 7.26484,
          "end_time": "2022-07-23T11:22:44.743610",
          "exception": false,
          "start_time": "2022-07-23T11:22:37.478770",
          "status": "completed"
        },
        "tags": []
      },
      "outputs": [
        {
          "name": "stdout",
          "output_type": "stream",
          "text": [
            "Mounted at /content/gdrive\n"
          ]
        }
      ],
      "source": [
        "import os, shutil\n",
        "shutil.copy(os.path.join('../input/convnext-roberta-final-v1-20epochs/convnextroberta20.pt'), os.path.join('/kaggle/working/'))"
      ]
    },
    {
      "cell_type": "code",
      "execution_count": null,
      "id": "807a4bff",
      "metadata": {
        "_kg_hide-input": true,
        "colab": {
          "base_uri": "https://localhost:8080/"
        },
        "execution": {
          "iopub.execute_input": "2022-07-23T11:22:44.770879Z",
          "iopub.status.busy": "2022-07-23T11:22:44.770042Z",
          "iopub.status.idle": "2022-07-23T11:22:56.784488Z",
          "shell.execute_reply": "2022-07-23T11:22:56.783342Z"
        },
        "id": "807a4bff",
        "outputId": "b1884f08-fa50-4ea9-f185-46d2d2a1d37b",
        "papermill": {
          "duration": 12.030532,
          "end_time": "2022-07-23T11:22:56.787178",
          "exception": false,
          "start_time": "2022-07-23T11:22:44.756646",
          "status": "completed"
        },
        "tags": []
      },
      "outputs": [
        {
          "name": "stdout",
          "output_type": "stream",
          "text": [
            "Looking in indexes: https://pypi.org/simple, https://us-python.pkg.dev/colab-wheels/public/simple/\n",
            "Collecting timm\n",
            "  Downloading timm-0.6.7-py3-none-any.whl (509 kB)\n",
            "\u001b[K     |████████████████████████████████| 509 kB 33.9 MB/s \n",
            "\u001b[?25hRequirement already satisfied: torchvision in /usr/local/lib/python3.7/dist-packages (from timm) (0.13.0+cu113)\n",
            "Requirement already satisfied: torch>=1.4 in /usr/local/lib/python3.7/dist-packages (from timm) (1.12.0+cu113)\n",
            "Requirement already satisfied: typing-extensions in /usr/local/lib/python3.7/dist-packages (from torch>=1.4->timm) (4.1.1)\n",
            "Requirement already satisfied: requests in /usr/local/lib/python3.7/dist-packages (from torchvision->timm) (2.23.0)\n",
            "Requirement already satisfied: numpy in /usr/local/lib/python3.7/dist-packages (from torchvision->timm) (1.21.6)\n",
            "Requirement already satisfied: pillow!=8.3.*,>=5.3.0 in /usr/local/lib/python3.7/dist-packages (from torchvision->timm) (7.1.2)\n",
            "Requirement already satisfied: chardet<4,>=3.0.2 in /usr/local/lib/python3.7/dist-packages (from requests->torchvision->timm) (3.0.4)\n",
            "Requirement already satisfied: idna<3,>=2.5 in /usr/local/lib/python3.7/dist-packages (from requests->torchvision->timm) (2.10)\n",
            "Requirement already satisfied: certifi>=2017.4.17 in /usr/local/lib/python3.7/dist-packages (from requests->torchvision->timm) (2022.6.15)\n",
            "Requirement already satisfied: urllib3!=1.25.0,!=1.25.1,<1.26,>=1.21.1 in /usr/local/lib/python3.7/dist-packages (from requests->torchvision->timm) (1.24.3)\n",
            "Installing collected packages: timm\n",
            "Successfully installed timm-0.6.7\n",
            "Looking in indexes: https://pypi.org/simple, https://us-python.pkg.dev/colab-wheels/public/simple/\n",
            "Collecting transformers\n",
            "  Downloading transformers-4.21.1-py3-none-any.whl (4.7 MB)\n",
            "\u001b[K     |████████████████████████████████| 4.7 MB 31.3 MB/s \n",
            "\u001b[?25hRequirement already satisfied: regex!=2019.12.17 in /usr/local/lib/python3.7/dist-packages (from transformers) (2022.6.2)\n",
            "Requirement already satisfied: importlib-metadata in /usr/local/lib/python3.7/dist-packages (from transformers) (4.12.0)\n",
            "Requirement already satisfied: numpy>=1.17 in /usr/local/lib/python3.7/dist-packages (from transformers) (1.21.6)\n",
            "Requirement already satisfied: filelock in /usr/local/lib/python3.7/dist-packages (from transformers) (3.7.1)\n",
            "Requirement already satisfied: requests in /usr/local/lib/python3.7/dist-packages (from transformers) (2.23.0)\n",
            "Collecting pyyaml>=5.1\n",
            "  Downloading PyYAML-6.0-cp37-cp37m-manylinux_2_5_x86_64.manylinux1_x86_64.manylinux_2_12_x86_64.manylinux2010_x86_64.whl (596 kB)\n",
            "\u001b[K     |████████████████████████████████| 596 kB 48.0 MB/s \n",
            "\u001b[?25hCollecting tokenizers!=0.11.3,<0.13,>=0.11.1\n",
            "  Downloading tokenizers-0.12.1-cp37-cp37m-manylinux_2_12_x86_64.manylinux2010_x86_64.whl (6.6 MB)\n",
            "\u001b[K     |████████████████████████████████| 6.6 MB 52.4 MB/s \n",
            "\u001b[?25hRequirement already satisfied: packaging>=20.0 in /usr/local/lib/python3.7/dist-packages (from transformers) (21.3)\n",
            "Requirement already satisfied: tqdm>=4.27 in /usr/local/lib/python3.7/dist-packages (from transformers) (4.64.0)\n",
            "Collecting huggingface-hub<1.0,>=0.1.0\n",
            "  Downloading huggingface_hub-0.8.1-py3-none-any.whl (101 kB)\n",
            "\u001b[K     |████████████████████████████████| 101 kB 13.1 MB/s \n",
            "\u001b[?25hRequirement already satisfied: typing-extensions>=3.7.4.3 in /usr/local/lib/python3.7/dist-packages (from huggingface-hub<1.0,>=0.1.0->transformers) (4.1.1)\n",
            "Requirement already satisfied: pyparsing!=3.0.5,>=2.0.2 in /usr/local/lib/python3.7/dist-packages (from packaging>=20.0->transformers) (3.0.9)\n",
            "Requirement already satisfied: zipp>=0.5 in /usr/local/lib/python3.7/dist-packages (from importlib-metadata->transformers) (3.8.1)\n",
            "Requirement already satisfied: chardet<4,>=3.0.2 in /usr/local/lib/python3.7/dist-packages (from requests->transformers) (3.0.4)\n",
            "Requirement already satisfied: urllib3!=1.25.0,!=1.25.1,<1.26,>=1.21.1 in /usr/local/lib/python3.7/dist-packages (from requests->transformers) (1.24.3)\n",
            "Requirement already satisfied: certifi>=2017.4.17 in /usr/local/lib/python3.7/dist-packages (from requests->transformers) (2022.6.15)\n",
            "Requirement already satisfied: idna<3,>=2.5 in /usr/local/lib/python3.7/dist-packages (from requests->transformers) (2.10)\n",
            "Installing collected packages: pyyaml, tokenizers, huggingface-hub, transformers\n",
            "  Attempting uninstall: pyyaml\n",
            "    Found existing installation: PyYAML 3.13\n",
            "    Uninstalling PyYAML-3.13:\n",
            "      Successfully uninstalled PyYAML-3.13\n",
            "Successfully installed huggingface-hub-0.8.1 pyyaml-6.0 tokenizers-0.12.1 transformers-4.21.1\n"
          ]
        }
      ],
      "source": [
        "!pip install timm\n",
        "!pip install transformers"
      ]
    },
    {
      "cell_type": "code",
      "execution_count": null,
      "id": "4efa193d",
      "metadata": {
        "colab": {
          "base_uri": "https://localhost:8080/"
        },
        "execution": {
          "iopub.execute_input": "2022-07-23T11:22:56.814401Z",
          "iopub.status.busy": "2022-07-23T11:22:56.814064Z",
          "iopub.status.idle": "2022-07-23T11:23:02.199071Z",
          "shell.execute_reply": "2022-07-23T11:23:02.198032Z"
        },
        "id": "4efa193d",
        "outputId": "54f2d71d-2ca2-4ed4-bfd4-ecd6d05495e7",
        "papermill": {
          "duration": 5.401174,
          "end_time": "2022-07-23T11:23:02.201420",
          "exception": false,
          "start_time": "2022-07-23T11:22:56.800246",
          "status": "completed"
        },
        "tags": []
      },
      "outputs": [
        {
          "name": "stderr",
          "output_type": "stream",
          "text": [
            "/usr/local/lib/python3.7/dist-packages/ipykernel_launcher.py:7: TqdmExperimentalWarning: Using `tqdm.autonotebook.tqdm` in notebook mode. Use `tqdm.tqdm` instead to force console mode (e.g. in jupyter console)\n",
            "  import sys\n"
          ]
        }
      ],
      "source": [
        "import os\n",
        "import cv2\n",
        "import gc\n",
        "import numpy as np\n",
        "import pandas as pd\n",
        "import itertools\n",
        "from tqdm.autonotebook import tqdm\n",
        "import albumentations as A\n",
        "import matplotlib.pyplot as plt\n",
        "\n",
        "import torch\n",
        "from torch import nn\n",
        "import torch.nn.functional as F\n",
        "import timm\n",
        "from transformers import RobertaConfig, RobertaModel, RobertaTokenizer "
      ]
    },
    {
      "cell_type": "code",
      "execution_count": null,
      "id": "e1a215d3",
      "metadata": {
        "execution": {
          "iopub.execute_input": "2022-07-23T11:23:02.229870Z",
          "iopub.status.busy": "2022-07-23T11:23:02.229160Z",
          "iopub.status.idle": "2022-07-23T11:23:02.293370Z",
          "shell.execute_reply": "2022-07-23T11:23:02.292527Z"
        },
        "id": "e1a215d3",
        "papermill": {
          "duration": 0.080993,
          "end_time": "2022-07-23T11:23:02.295390",
          "exception": false,
          "start_time": "2022-07-23T11:23:02.214397",
          "status": "completed"
        },
        "tags": []
      },
      "outputs": [],
      "source": [
        "class CFG:\n",
        "    debug = False\n",
        "    image_path = \"../input/flickr-image-dataset/flickr30k_images/flickr30k_images\"\n",
        "    captions_path = \".\"\n",
        "    batch_size = 32\n",
        "    num_workers = 2\n",
        "    head_lr = 1e-3\n",
        "    image_encoder_lr = 1e-5\n",
        "    text_encoder_lr = 1e-5\n",
        "    weight_decay = 1e-3\n",
        "    patience = 1\n",
        "    factor = 0.8\n",
        "    epochs = 5\n",
        "    device = torch.device(\"cuda\" if torch.cuda.is_available() else \"cpu\")\n",
        "\n",
        "    #model_name = 'vit_base_patch32_224_in21k'\n",
        "    model_name = 'convnext_base_in22ft1k'\n",
        "    image_embedding = 1024\n",
        "    text_encoder_model = \"roberta-base\"\n",
        "    text_embedding = 768\n",
        "    text_tokenizer = \"roberta-base\"\n",
        "    max_length = 200\n",
        "\n",
        "    pretrained = True # for both image encoder and text encoder\n",
        "    trainable = True # for both image encoder and text encoder\n",
        "    temperature = 1.0\n",
        "\n",
        "    # image size\n",
        "    size = 224\n",
        "\n",
        "    # for projection head; used for both image and text encoders\n",
        "    num_projection_layers = 1\n",
        "    projection_dim = 256 \n",
        "    dropout = 0.1"
      ]
    },
    {
      "cell_type": "markdown",
      "id": "400f0cb5",
      "metadata": {
        "id": "400f0cb5",
        "papermill": {
          "duration": 0.012138,
          "end_time": "2022-07-23T11:23:02.320015",
          "exception": false,
          "start_time": "2022-07-23T11:23:02.307877",
          "status": "completed"
        },
        "tags": []
      },
      "source": [
        "## Image Encoder"
      ]
    },
    {
      "cell_type": "code",
      "execution_count": null,
      "id": "e6171018",
      "metadata": {
        "execution": {
          "iopub.execute_input": "2022-07-23T11:23:02.346453Z",
          "iopub.status.busy": "2022-07-23T11:23:02.345692Z",
          "iopub.status.idle": "2022-07-23T11:23:02.352203Z",
          "shell.execute_reply": "2022-07-23T11:23:02.351361Z"
        },
        "id": "e6171018",
        "papermill": {
          "duration": 0.021801,
          "end_time": "2022-07-23T11:23:02.354143",
          "exception": false,
          "start_time": "2022-07-23T11:23:02.332342",
          "status": "completed"
        },
        "tags": []
      },
      "outputs": [],
      "source": [
        "class ImageEncoder(nn.Module):\n",
        "    \"\"\"\n",
        "    Encode images to a fixed size vector\n",
        "    \"\"\"\n",
        "\n",
        "    def __init__(\n",
        "        self, model_name=CFG.model_name, pretrained=CFG.pretrained, trainable=CFG.trainable\n",
        "    ):\n",
        "        super().__init__()\n",
        "        self.model = timm.create_model(\n",
        "            model_name, pretrained, num_classes=0,\n",
        "        )\n",
        "        for p in self.model.parameters():\n",
        "            p.requires_grad = trainable\n",
        "\n",
        "    def forward(self, x):\n",
        "        return self.model(x)"
      ]
    },
    {
      "cell_type": "markdown",
      "id": "c3d9883d",
      "metadata": {
        "id": "c3d9883d",
        "papermill": {
          "duration": 0.012102,
          "end_time": "2022-07-23T11:23:02.378475",
          "exception": false,
          "start_time": "2022-07-23T11:23:02.366373",
          "status": "completed"
        },
        "tags": []
      },
      "source": [
        "## Text Encoder"
      ]
    },
    {
      "cell_type": "code",
      "execution_count": null,
      "id": "bf4fbf5f",
      "metadata": {
        "execution": {
          "iopub.execute_input": "2022-07-23T11:23:02.404145Z",
          "iopub.status.busy": "2022-07-23T11:23:02.403891Z",
          "iopub.status.idle": "2022-07-23T11:23:02.412474Z",
          "shell.execute_reply": "2022-07-23T11:23:02.411609Z"
        },
        "id": "bf4fbf5f",
        "papermill": {
          "duration": 0.023683,
          "end_time": "2022-07-23T11:23:02.414484",
          "exception": false,
          "start_time": "2022-07-23T11:23:02.390801",
          "status": "completed"
        },
        "tags": []
      },
      "outputs": [],
      "source": [
        "class TextEncoder(nn.Module):\n",
        "    def __init__(self, model_name=CFG.text_encoder_model, pretrained=CFG.pretrained, trainable=CFG.trainable):\n",
        "        super().__init__()\n",
        "        if pretrained:\n",
        "            self.model = RobertaModel.from_pretrained(model_name)\n",
        "        else:\n",
        "            self.model = RobertaModel(config=RobertaConfig())\n",
        "            \n",
        "        for p in self.model.parameters():\n",
        "            p.requires_grad = trainable\n",
        "\n",
        "        # we are using the CLS token hidden representation as the sentence's embedding\n",
        "        self.target_token_idx = 0\n",
        "\n",
        "    def forward(self, input_ids, attention_mask):\n",
        "        output = self.model(input_ids=input_ids, attention_mask=attention_mask)\n",
        "        last_hidden_state = output.last_hidden_state\n",
        "        return last_hidden_state[:, self.target_token_idx, :]"
      ]
    },
    {
      "cell_type": "markdown",
      "id": "39e4ed48",
      "metadata": {
        "id": "39e4ed48",
        "papermill": {
          "duration": 0.012199,
          "end_time": "2022-07-23T11:23:02.439116",
          "exception": false,
          "start_time": "2022-07-23T11:23:02.426917",
          "status": "completed"
        },
        "tags": []
      },
      "source": [
        "## Projection Head"
      ]
    },
    {
      "cell_type": "code",
      "execution_count": null,
      "id": "52a39730",
      "metadata": {
        "execution": {
          "iopub.execute_input": "2022-07-23T11:23:02.464660Z",
          "iopub.status.busy": "2022-07-23T11:23:02.464388Z",
          "iopub.status.idle": "2022-07-23T11:23:02.471443Z",
          "shell.execute_reply": "2022-07-23T11:23:02.470498Z"
        },
        "id": "52a39730",
        "papermill": {
          "duration": 0.022077,
          "end_time": "2022-07-23T11:23:02.473436",
          "exception": false,
          "start_time": "2022-07-23T11:23:02.451359",
          "status": "completed"
        },
        "tags": []
      },
      "outputs": [],
      "source": [
        "class ProjectionHead(nn.Module):\n",
        "    def __init__(\n",
        "        self,\n",
        "        embedding_dim,\n",
        "        projection_dim=CFG.projection_dim,\n",
        "        dropout=CFG.dropout\n",
        "    ):\n",
        "        super().__init__()\n",
        "        self.projection = nn.Linear(embedding_dim, projection_dim)\n",
        "        self.gelu = nn.GELU()\n",
        "        self.fc = nn.Linear(projection_dim, projection_dim)\n",
        "        self.dropout = nn.Dropout(dropout)\n",
        "        self.layer_norm = nn.LayerNorm(projection_dim)\n",
        "    \n",
        "    def forward(self, x):\n",
        "        projected = self.projection(x)\n",
        "        x = self.gelu(projected)\n",
        "        x = self.fc(x)\n",
        "        x = self.dropout(x)\n",
        "        x = x + projected\n",
        "        x = self.layer_norm(x)\n",
        "        return x"
      ]
    },
    {
      "cell_type": "markdown",
      "id": "4c275fac",
      "metadata": {
        "id": "4c275fac",
        "papermill": {
          "duration": 0.01211,
          "end_time": "2022-07-23T11:23:02.497859",
          "exception": false,
          "start_time": "2022-07-23T11:23:02.485749",
          "status": "completed"
        },
        "tags": []
      },
      "source": [
        "## CLIP"
      ]
    },
    {
      "cell_type": "code",
      "execution_count": null,
      "id": "4774ca28",
      "metadata": {
        "execution": {
          "iopub.execute_input": "2022-07-23T11:23:02.523734Z",
          "iopub.status.busy": "2022-07-23T11:23:02.523422Z",
          "iopub.status.idle": "2022-07-23T11:23:02.534464Z",
          "shell.execute_reply": "2022-07-23T11:23:02.533290Z"
        },
        "id": "4774ca28",
        "papermill": {
          "duration": 0.026134,
          "end_time": "2022-07-23T11:23:02.536371",
          "exception": false,
          "start_time": "2022-07-23T11:23:02.510237",
          "status": "completed"
        },
        "tags": []
      },
      "outputs": [],
      "source": [
        "class CLIPModel(nn.Module):\n",
        "    def __init__(\n",
        "        self,\n",
        "        temperature=CFG.temperature,\n",
        "        image_embedding=CFG.image_embedding,\n",
        "        text_embedding=CFG.text_embedding,\n",
        "    ):\n",
        "        super().__init__()\n",
        "        self.image_encoder = ImageEncoder()\n",
        "        self.text_encoder = TextEncoder()\n",
        "        self.image_projection = ProjectionHead(embedding_dim=image_embedding)\n",
        "        self.text_projection = ProjectionHead(embedding_dim=text_embedding)\n",
        "        self.temperature = temperature\n",
        "\n",
        "    def forward(self, batch):\n",
        "        # Getting Image and Text Features\n",
        "        image_features = self.image_encoder(batch[\"image\"])\n",
        "        text_features = self.text_encoder(\n",
        "            input_ids=batch[\"input_ids\"], attention_mask=batch[\"attention_mask\"]\n",
        "        )\n",
        "        # Getting Image and Text Embeddings (with same dimension)\n",
        "        image_embeddings = self.image_projection(image_features)\n",
        "        text_embeddings = self.text_projection(text_features)\n",
        "\n",
        "        # Calculating the Loss\n",
        "        logits = (text_embeddings @ image_embeddings.T) / self.temperature\n",
        "        images_similarity = image_embeddings @ image_embeddings.T\n",
        "        texts_similarity = text_embeddings @ text_embeddings.T\n",
        "        targets = F.softmax(\n",
        "            (images_similarity + texts_similarity) / 2 * self.temperature, dim=-1\n",
        "        )\n",
        "        texts_loss = cross_entropy(logits, targets, reduction='none')\n",
        "        images_loss = cross_entropy(logits.T, targets.T, reduction='none')\n",
        "        loss =  (images_loss + texts_loss) / 2.0 # shape: (batch_size)\n",
        "        return loss.mean()\n",
        "\n",
        "\n",
        "def cross_entropy(preds, targets, reduction='none'):\n",
        "    log_softmax = nn.LogSoftmax(dim=-1)\n",
        "    loss = (-targets * log_softmax(preds)).sum(1)\n",
        "    if reduction == \"none\":\n",
        "        return loss\n",
        "    elif reduction == \"mean\":\n",
        "        return loss.mean()"
      ]
    },
    {
      "cell_type": "code",
      "execution_count": null,
      "id": "3f9136ec",
      "metadata": {
        "colab": {
          "base_uri": "https://localhost:8080/",
          "height": 244,
          "referenced_widgets": [
            "23aed504800b4590bb3f238e6e2d3ef7",
            "35d3445a69b14f55b4239a1ac5fe41df",
            "4bf4ea410e274a07b420d977070adb38",
            "efb6e589405b4108a6506a51ae6b47bb",
            "d5ae1f3eab9c4aeda682d5970d9920ad",
            "aa6fcb5c677648a9a74203e9924b4783",
            "ed29f33c1553458d8feaaa130f7e90d0",
            "f3471cb4bab8499d83e7b78a84faf376",
            "63809fa9b6df4806b02a84ec02580b2b",
            "57226f3c581541d792f964968dd884c5",
            "0a950b3353934829af06bfaa95d75671",
            "eade75ca00fe4a22b91f5a3e66a9f0e3",
            "fabb4917dd1047c7a9e6623b9d4647d2",
            "1600184df8fa4859af50d83c3e374353",
            "8aee1995aab7416d906a51903ec9e16d",
            "2ae6fbe7e7ae4c0a987cd9e5bed1948f",
            "ae5a17eff4c142caaf1767b37c89b958",
            "a480743c87e44923b5ad37af62f542dc",
            "89ac67f74bc349c181b52f5a63ce5ec0",
            "1bb9a85c82c44f8fb62fffce0b214bab",
            "aad53159aaaf47efa120d221007f1347",
            "adff36d1c29a4a109800033a78825b72"
          ]
        },
        "execution": {
          "iopub.execute_input": "2022-07-23T11:23:02.562526Z",
          "iopub.status.busy": "2022-07-23T11:23:02.562201Z",
          "iopub.status.idle": "2022-07-23T11:23:35.218330Z",
          "shell.execute_reply": "2022-07-23T11:23:35.217327Z"
        },
        "id": "3f9136ec",
        "outputId": "26746f4c-7ac2-4ac1-edde-be156cb0de9e",
        "papermill": {
          "duration": 32.684915,
          "end_time": "2022-07-23T11:23:35.233675",
          "exception": false,
          "start_time": "2022-07-23T11:23:02.548760",
          "status": "completed"
        },
        "tags": []
      },
      "outputs": [
        {
          "name": "stderr",
          "output_type": "stream",
          "text": [
            "Downloading: \"https://dl.fbaipublicfiles.com/convnext/convnext_base_22k_1k_224.pth\" to /root/.cache/torch/hub/checkpoints/convnext_base_22k_1k_224.pth\n"
          ]
        },
        {
          "data": {
            "application/vnd.jupyter.widget-view+json": {
              "model_id": "23aed504800b4590bb3f238e6e2d3ef7",
              "version_major": 2,
              "version_minor": 0
            },
            "text/plain": [
              "Downloading config.json:   0%|          | 0.00/481 [00:00<?, ?B/s]"
            ]
          },
          "metadata": {},
          "output_type": "display_data"
        },
        {
          "data": {
            "application/vnd.jupyter.widget-view+json": {
              "model_id": "eade75ca00fe4a22b91f5a3e66a9f0e3",
              "version_major": 2,
              "version_minor": 0
            },
            "text/plain": [
              "Downloading pytorch_model.bin:   0%|          | 0.00/478M [00:00<?, ?B/s]"
            ]
          },
          "metadata": {},
          "output_type": "display_data"
        },
        {
          "name": "stderr",
          "output_type": "stream",
          "text": [
            "Some weights of the model checkpoint at roberta-base were not used when initializing RobertaModel: ['lm_head.dense.weight', 'lm_head.layer_norm.bias', 'lm_head.bias', 'lm_head.decoder.weight', 'lm_head.dense.bias', 'lm_head.layer_norm.weight']\n",
            "- This IS expected if you are initializing RobertaModel from the checkpoint of a model trained on another task or with another architecture (e.g. initializing a BertForSequenceClassification model from a BertForPreTraining model).\n",
            "- This IS NOT expected if you are initializing RobertaModel from the checkpoint of a model that you expect to be exactly identical (initializing a BertForSequenceClassification model from a BertForSequenceClassification model).\n"
          ]
        },
        {
          "name": "stdout",
          "output_type": "stream",
          "text": [
            "Model parameters: 212,803,968\n"
          ]
        }
      ],
      "source": [
        "def get_model(model_path):\n",
        "    model = CLIPModel().to(CFG.device)\n",
        "    model.load_state_dict(torch.load(model_path, map_location=CFG.device))\n",
        "    return model\n",
        "model = get_model(\"convnextroberta20.pt\")\n",
        "print(\"Model parameters:\", f\"{np.sum([int(np.prod(p.shape)) for p in model.parameters()]):,}\")"
      ]
    },
    {
      "cell_type": "markdown",
      "id": "9800841c",
      "metadata": {
        "id": "9800841c",
        "papermill": {
          "duration": 0.012876,
          "end_time": "2022-07-23T11:23:35.259940",
          "exception": false,
          "start_time": "2022-07-23T11:23:35.247064",
          "status": "completed"
        },
        "tags": []
      },
      "source": [
        "#  ****EXEMPLE 1****"
      ]
    },
    {
      "cell_type": "code",
      "execution_count": null,
      "id": "5f8f1a02",
      "metadata": {
        "colab": {
          "base_uri": "https://localhost:8080/"
        },
        "execution": {
          "iopub.execute_input": "2022-07-23T11:23:47.848878Z",
          "iopub.status.busy": "2022-07-23T11:23:47.847969Z",
          "iopub.status.idle": "2022-07-23T11:23:55.053856Z",
          "shell.execute_reply": "2022-07-23T11:23:55.052774Z"
        },
        "id": "5f8f1a02",
        "outputId": "87e68375-2594-4cb6-e84f-d2217dfc1003",
        "papermill": {
          "duration": 7.234532,
          "end_time": "2022-07-23T11:23:55.056263",
          "exception": false,
          "start_time": "2022-07-23T11:23:47.821731",
          "status": "completed"
        },
        "tags": []
      },
      "outputs": [
        {
          "name": "stderr",
          "output_type": "stream",
          "text": [
            "100%|████████████████████████████████████████| 338M/338M [00:02<00:00, 151MiB/s]\n"
          ]
        }
      ],
      "source": [
        "import pandas as pd\n",
        "import clip\n",
        "import torch\n",
        "from PIL import Image\n",
        "import os\n",
        "from pathlib import Path\n",
        "import urllib.request\n",
        "from multiprocessing.pool import ThreadPool\n",
        "import math\n",
        "import numpy as np\n",
        "from torchvision.transforms import Compose, Resize, CenterCrop, ToTensor, Normalize\n",
        "from PIL import Image"
      ]
    },
    {
      "cell_type": "code",
      "execution_count": null,
      "id": "Ks2-CPyBnldk",
      "metadata": {
        "id": "Ks2-CPyBnldk"
      },
      "outputs": [],
      "source": [
        "preprocess = Compose([\n",
        "    Resize(CFG.size, interpolation=Image.BICUBIC),\n",
        "    CenterCrop(CFG.size),\n",
        "    ToTensor()\n",
        "])"
      ]
    },
    {
      "cell_type": "code",
      "execution_count": null,
      "id": "498eb262",
      "metadata": {
        "execution": {
          "iopub.execute_input": "2022-07-23T11:23:55.089906Z",
          "iopub.status.busy": "2022-07-23T11:23:55.088430Z",
          "iopub.status.idle": "2022-07-23T11:23:55.094853Z",
          "shell.execute_reply": "2022-07-23T11:23:55.093986Z"
        },
        "id": "498eb262",
        "papermill": {
          "duration": 0.024729,
          "end_time": "2022-07-23T11:23:55.096810",
          "exception": false,
          "start_time": "2022-07-23T11:23:55.072081",
          "status": "completed"
        },
        "tags": []
      },
      "outputs": [],
      "source": [
        "os.makedirs('./Unsplash/photos')\n",
        "os.makedirs('./Unsplash/features')"
      ]
    },
    {
      "cell_type": "code",
      "execution_count": null,
      "id": "46763c75",
      "metadata": {
        "execution": {
          "iopub.execute_input": "2022-07-23T11:23:55.129126Z",
          "iopub.status.busy": "2022-07-23T11:23:55.128516Z",
          "iopub.status.idle": "2022-07-23T11:23:55.133861Z",
          "shell.execute_reply": "2022-07-23T11:23:55.132988Z"
        },
        "id": "46763c75",
        "papermill": {
          "duration": 0.023521,
          "end_time": "2022-07-23T11:23:55.135834",
          "exception": false,
          "start_time": "2022-07-23T11:23:55.112313",
          "status": "completed"
        },
        "tags": []
      },
      "outputs": [],
      "source": [
        "unsplash_dataset_path = Path(\"./Unsplash\") "
      ]
    },
    {
      "cell_type": "code",
      "execution_count": null,
      "id": "cf48451e",
      "metadata": {
        "execution": {
          "iopub.execute_input": "2022-07-23T11:23:55.167939Z",
          "iopub.status.busy": "2022-07-23T11:23:55.167248Z",
          "iopub.status.idle": "2022-07-23T11:23:55.507011Z",
          "shell.execute_reply": "2022-07-23T11:23:55.505511Z"
        },
        "id": "cf48451e",
        "outputId": "4adad25a-1bc2-4353-dea8-9e3e93b2e562",
        "papermill": {
          "duration": 0.358366,
          "end_time": "2022-07-23T11:23:55.509324",
          "exception": false,
          "start_time": "2022-07-23T11:23:55.150958",
          "status": "completed"
        },
        "tags": []
      },
      "outputs": [
        {
          "name": "stdout",
          "output_type": "stream",
          "text": [
            "Photos in the dataset: 25000\n"
          ]
        }
      ],
      "source": [
        "# Read the photos table\n",
        "photos = pd.read_csv(\"../input/unsplash-image-download-data/Unsplash/photos.csv\", delimiter=',')\n",
        "\n",
        "# Extract the IDs and the URLs of the photos\n",
        "photo_urls = photos[['photo_id', 'photo_image_url']].values.tolist()\n",
        "\n",
        "# Print some statistics\n",
        "print(f'Photos in the dataset: {len(photo_urls)}')"
      ]
    },
    {
      "cell_type": "code",
      "execution_count": null,
      "id": "a34c59c4",
      "metadata": {
        "execution": {
          "iopub.execute_input": "2022-07-23T11:23:55.542680Z",
          "iopub.status.busy": "2022-07-23T11:23:55.542335Z",
          "iopub.status.idle": "2022-07-23T11:23:55.550014Z",
          "shell.execute_reply": "2022-07-23T11:23:55.549147Z"
        },
        "id": "a34c59c4",
        "papermill": {
          "duration": 0.026518,
          "end_time": "2022-07-23T11:23:55.552045",
          "exception": false,
          "start_time": "2022-07-23T11:23:55.525527",
          "status": "completed"
        },
        "tags": []
      },
      "outputs": [],
      "source": [
        "# Path where the photos will be downloaded\n",
        "photos_donwload_path = unsplash_dataset_path / \"photos\"\n",
        "\n",
        "# Function that downloads a single photo\n",
        "def download_photo(photo):\n",
        "    # Get the ID of the photo\n",
        "    photo_id = photo[0]\n",
        "\n",
        "    # Get the URL of the photo (setting the width to 640 pixels)\n",
        "    photo_url = photo[1] + \"?w=640\"\n",
        "\n",
        "    # Path where the photo will be stored\n",
        "    photo_path = photos_donwload_path / (photo_id + \".jpg\")\n",
        "\n",
        "    # Only download a photo if it doesn't exist\n",
        "    if not photo_path.exists():\n",
        "        try:\n",
        "            urllib.request.urlretrieve(photo_url, photo_path)\n",
        "        except:\n",
        "            # Catch the exception if the download fails for some reason\n",
        "            print(f\"Cannot download {photo_url}\")\n",
        "            pass"
      ]
    },
    {
      "cell_type": "code",
      "execution_count": null,
      "id": "4f418c73",
      "metadata": {
        "execution": {
          "iopub.execute_input": "2022-07-23T11:23:55.586892Z",
          "iopub.status.busy": "2022-07-23T11:23:55.586244Z",
          "iopub.status.idle": "2022-07-23T11:28:51.309453Z",
          "shell.execute_reply": "2022-07-23T11:28:51.308494Z"
        },
        "id": "4f418c73",
        "outputId": "e822e6c2-cc99-41b6-d8b0-ad3f1057b15d",
        "papermill": {
          "duration": 295.757798,
          "end_time": "2022-07-23T11:28:51.326902",
          "exception": false,
          "start_time": "2022-07-23T11:23:55.569104",
          "status": "completed"
        },
        "tags": []
      },
      "outputs": [
        {
          "name": "stdout",
          "output_type": "stream",
          "text": [
            "Cannot download https://images.unsplash.company%20by%20Alessandro%20Desantis%20-%20Downloaded%20from%20500px_jpg.jpg?w=640\n",
            "Cannot download https://images.unsplash.com/photo-1481930079977-24a345fcae85?w=640\n",
            "Cannot download https://images.unsplash.com_TheBeach.jpg?w=640\n",
            "Cannot download https://images.unsplash.com-grass-sun.jpg?w=640\n"
          ]
        },
        {
          "data": {
            "text/plain": [
              "'Photos downloaded: 25000'"
            ]
          },
          "metadata": {},
          "output_type": "display_data"
        }
      ],
      "source": [
        "# Create the thread pool\n",
        "threads_count = 16\n",
        "pool = ThreadPool(threads_count)\n",
        "\n",
        "# Start the download\n",
        "pool.map(download_photo, photo_urls)\n",
        "\n",
        "# Display some statistics\n",
        "display(f'Photos downloaded: {len(photos)}')"
      ]
    },
    {
      "cell_type": "code",
      "execution_count": null,
      "id": "df1137fc",
      "metadata": {
        "execution": {
          "iopub.execute_input": "2022-07-23T11:28:51.360807Z",
          "iopub.status.busy": "2022-07-23T11:28:51.359674Z",
          "iopub.status.idle": "2022-07-23T11:28:51.452486Z",
          "shell.execute_reply": "2022-07-23T11:28:51.451359Z"
        },
        "id": "df1137fc",
        "outputId": "4fb4cf26-fc5e-4d5e-b6e4-37f18fd4359c",
        "papermill": {
          "duration": 0.112542,
          "end_time": "2022-07-23T11:28:51.455224",
          "exception": false,
          "start_time": "2022-07-23T11:28:51.342682",
          "status": "completed"
        },
        "tags": []
      },
      "outputs": [
        {
          "name": "stdout",
          "output_type": "stream",
          "text": [
            "Photos found: 24996\n"
          ]
        }
      ],
      "source": [
        "# Set the path to the photos\n",
        "photos_path = Path(\"./Unsplash/photos\")\n",
        "# List all JPGs in the folder\n",
        "photos_files = list(photos_path.glob(\"*.jpg\"))\n",
        "# Print some statistics\n",
        "print(f\"Photos found: {len(photos_files)}\")"
      ]
    },
    {
      "cell_type": "code",
      "execution_count": null,
      "id": "983b5efe",
      "metadata": {
        "execution": {
          "iopub.execute_input": "2022-07-23T11:28:51.488594Z",
          "iopub.status.busy": "2022-07-23T11:28:51.487877Z",
          "iopub.status.idle": "2022-07-23T11:28:51.495798Z",
          "shell.execute_reply": "2022-07-23T11:28:51.494878Z"
        },
        "id": "983b5efe",
        "papermill": {
          "duration": 0.026739,
          "end_time": "2022-07-23T11:28:51.497782",
          "exception": false,
          "start_time": "2022-07-23T11:28:51.471043",
          "status": "completed"
        },
        "tags": []
      },
      "outputs": [],
      "source": [
        "# Function that computes the feature vectors for a batch of images\n",
        "def compute_clip_features(photos_batch):\n",
        "    # Load all the photos from the files\n",
        "    photos = [Image.open(photo_file) for photo_file in photos_batch]\n",
        "    \n",
        "    # Preprocess all photos\n",
        "    photos_preprocessed = torch.stack([preprocess(photo) for photo in photos]).to(device)\n",
        "\n",
        "    with torch.no_grad():\n",
        "        # Encode the photos batch to compute the feature vectors and normalize them\n",
        "        photos_features = model.image_encoder(photos_preprocessed.to(CFG.device))\n",
        "        photos_features = model.image_projection(photos_features)\n",
        "        photos_features = F.normalize(photos_features, p=2, dim=-1)\n",
        "\n",
        "    # Transfer the feature vectors back to the CPU and convert to numpy\n",
        "    return photos_features.cpu().numpy()"
      ]
    },
    {
      "cell_type": "code",
      "execution_count": null,
      "id": "9629dcc8",
      "metadata": {
        "execution": {
          "iopub.execute_input": "2022-07-23T11:28:51.532305Z",
          "iopub.status.busy": "2022-07-23T11:28:51.531474Z",
          "iopub.status.idle": "2022-07-23T11:38:27.713105Z",
          "shell.execute_reply": "2022-07-23T11:38:27.711996Z"
        },
        "id": "9629dcc8",
        "outputId": "deac4bd6-61c7-461a-e58a-cc1adba1a9ea",
        "papermill": {
          "duration": 576.200993,
          "end_time": "2022-07-23T11:38:27.715171",
          "exception": false,
          "start_time": "2022-07-23T11:28:51.514178",
          "status": "completed"
        },
        "tags": []
      },
      "outputs": [
        {
          "name": "stdout",
          "output_type": "stream",
          "text": [
            "Processing batch 1/1563\n",
            "Processing batch 2/1563\n",
            "Processing batch 3/1563\n",
            "Processing batch 4/1563\n",
            "Processing batch 5/1563\n",
            "Processing batch 6/1563\n",
            "Processing batch 7/1563\n",
            "Processing batch 8/1563\n",
            "Processing batch 9/1563\n",
            "Processing batch 10/1563\n",
            "Processing batch 11/1563\n",
            "Processing batch 12/1563\n",
            "Processing batch 13/1563\n",
            "Processing batch 14/1563\n",
            "Processing batch 15/1563\n",
            "Processing batch 16/1563\n",
            "Processing batch 17/1563\n",
            "Processing batch 18/1563\n",
            "Processing batch 19/1563\n",
            "Processing batch 20/1563\n",
            "Processing batch 21/1563\n",
            "Processing batch 22/1563\n",
            "Processing batch 23/1563\n",
            "Processing batch 24/1563\n",
            "Processing batch 25/1563\n",
            "Processing batch 26/1563\n",
            "Processing batch 27/1563\n",
            "Processing batch 28/1563\n",
            "Processing batch 29/1563\n",
            "Processing batch 30/1563\n",
            "Processing batch 31/1563\n",
            "Processing batch 32/1563\n",
            "Processing batch 33/1563\n",
            "Processing batch 34/1563\n",
            "Processing batch 35/1563\n",
            "Processing batch 36/1563\n",
            "Processing batch 37/1563\n",
            "Processing batch 38/1563\n",
            "Processing batch 39/1563\n",
            "Processing batch 40/1563\n",
            "Processing batch 41/1563\n",
            "Processing batch 42/1563\n",
            "Processing batch 43/1563\n",
            "Processing batch 44/1563\n",
            "Processing batch 45/1563\n",
            "Processing batch 46/1563\n",
            "Processing batch 47/1563\n",
            "Processing batch 48/1563\n",
            "Processing batch 49/1563\n",
            "Processing batch 50/1563\n",
            "Processing batch 51/1563\n",
            "Processing batch 52/1563\n",
            "Processing batch 53/1563\n",
            "Processing batch 54/1563\n",
            "Processing batch 55/1563\n",
            "Processing batch 56/1563\n",
            "Processing batch 57/1563\n",
            "Processing batch 58/1563\n",
            "Processing batch 59/1563\n",
            "Processing batch 60/1563\n",
            "Processing batch 61/1563\n",
            "Processing batch 62/1563\n",
            "Processing batch 63/1563\n",
            "Processing batch 64/1563\n",
            "Processing batch 65/1563\n",
            "Processing batch 66/1563\n",
            "Processing batch 67/1563\n",
            "Processing batch 68/1563\n",
            "Processing batch 69/1563\n",
            "Processing batch 70/1563\n",
            "Processing batch 71/1563\n",
            "Processing batch 72/1563\n",
            "Processing batch 73/1563\n",
            "Processing batch 74/1563\n",
            "Processing batch 75/1563\n",
            "Processing batch 76/1563\n",
            "Processing batch 77/1563\n",
            "Processing batch 78/1563\n",
            "Processing batch 79/1563\n",
            "Processing batch 80/1563\n",
            "Processing batch 81/1563\n",
            "Processing batch 82/1563\n",
            "Processing batch 83/1563\n",
            "Processing batch 84/1563\n",
            "Processing batch 85/1563\n",
            "Processing batch 86/1563\n",
            "Processing batch 87/1563\n",
            "Processing batch 88/1563\n",
            "Processing batch 89/1563\n",
            "Processing batch 90/1563\n",
            "Processing batch 91/1563\n",
            "Processing batch 92/1563\n",
            "Processing batch 93/1563\n",
            "Processing batch 94/1563\n",
            "Processing batch 95/1563\n",
            "Processing batch 96/1563\n",
            "Processing batch 97/1563\n",
            "Processing batch 98/1563\n",
            "Processing batch 99/1563\n",
            "Processing batch 100/1563\n",
            "Processing batch 101/1563\n",
            "Processing batch 102/1563\n",
            "Processing batch 103/1563\n",
            "Processing batch 104/1563\n",
            "Processing batch 105/1563\n",
            "Processing batch 106/1563\n",
            "Processing batch 107/1563\n",
            "Processing batch 108/1563\n",
            "Processing batch 109/1563\n",
            "Processing batch 110/1563\n",
            "Processing batch 111/1563\n",
            "Processing batch 112/1563\n",
            "Processing batch 113/1563\n",
            "Processing batch 114/1563\n",
            "Processing batch 115/1563\n",
            "Processing batch 116/1563\n",
            "Processing batch 117/1563\n",
            "Processing batch 118/1563\n",
            "Processing batch 119/1563\n",
            "Processing batch 120/1563\n",
            "Processing batch 121/1563\n",
            "Processing batch 122/1563\n",
            "Processing batch 123/1563\n",
            "Processing batch 124/1563\n",
            "Processing batch 125/1563\n",
            "Processing batch 126/1563\n",
            "Processing batch 127/1563\n",
            "Processing batch 128/1563\n",
            "Processing batch 129/1563\n",
            "Processing batch 130/1563\n",
            "Processing batch 131/1563\n",
            "Processing batch 132/1563\n",
            "Processing batch 133/1563\n",
            "Processing batch 134/1563\n",
            "Processing batch 135/1563\n",
            "Processing batch 136/1563\n",
            "Processing batch 137/1563\n",
            "Processing batch 138/1563\n",
            "Processing batch 139/1563\n",
            "Processing batch 140/1563\n",
            "Processing batch 141/1563\n",
            "Processing batch 142/1563\n",
            "Processing batch 143/1563\n",
            "Processing batch 144/1563\n",
            "Processing batch 145/1563\n",
            "Processing batch 146/1563\n",
            "Processing batch 147/1563\n",
            "Processing batch 148/1563\n",
            "Processing batch 149/1563\n",
            "Processing batch 150/1563\n",
            "Processing batch 151/1563\n",
            "Processing batch 152/1563\n",
            "Processing batch 153/1563\n",
            "Processing batch 154/1563\n",
            "Processing batch 155/1563\n",
            "Processing batch 156/1563\n",
            "Processing batch 157/1563\n",
            "Processing batch 158/1563\n",
            "Processing batch 159/1563\n",
            "Processing batch 160/1563\n",
            "Processing batch 161/1563\n",
            "Processing batch 162/1563\n",
            "Processing batch 163/1563\n",
            "Processing batch 164/1563\n",
            "Processing batch 165/1563\n",
            "Processing batch 166/1563\n",
            "Processing batch 167/1563\n",
            "Processing batch 168/1563\n",
            "Processing batch 169/1563\n",
            "Processing batch 170/1563\n",
            "Processing batch 171/1563\n",
            "Processing batch 172/1563\n",
            "Processing batch 173/1563\n",
            "Processing batch 174/1563\n",
            "Processing batch 175/1563\n",
            "Processing batch 176/1563\n",
            "Processing batch 177/1563\n",
            "Processing batch 178/1563\n",
            "Processing batch 179/1563\n",
            "Processing batch 180/1563\n",
            "Processing batch 181/1563\n",
            "Processing batch 182/1563\n",
            "Processing batch 183/1563\n",
            "Processing batch 184/1563\n",
            "Processing batch 185/1563\n",
            "Processing batch 186/1563\n",
            "Processing batch 187/1563\n",
            "Processing batch 188/1563\n",
            "Processing batch 189/1563\n",
            "Processing batch 190/1563\n",
            "Processing batch 191/1563\n",
            "Processing batch 192/1563\n",
            "Processing batch 193/1563\n",
            "Processing batch 194/1563\n",
            "Processing batch 195/1563\n",
            "Processing batch 196/1563\n",
            "Processing batch 197/1563\n",
            "Processing batch 198/1563\n",
            "Processing batch 199/1563\n",
            "Processing batch 200/1563\n",
            "Processing batch 201/1563\n",
            "Processing batch 202/1563\n",
            "Processing batch 203/1563\n",
            "Processing batch 204/1563\n",
            "Processing batch 205/1563\n",
            "Processing batch 206/1563\n",
            "Processing batch 207/1563\n",
            "Processing batch 208/1563\n",
            "Processing batch 209/1563\n",
            "Processing batch 210/1563\n",
            "Processing batch 211/1563\n",
            "Processing batch 212/1563\n",
            "Processing batch 213/1563\n",
            "Processing batch 214/1563\n",
            "Processing batch 215/1563\n",
            "Processing batch 216/1563\n",
            "Processing batch 217/1563\n",
            "Processing batch 218/1563\n",
            "Processing batch 219/1563\n",
            "Processing batch 220/1563\n",
            "Processing batch 221/1563\n",
            "Processing batch 222/1563\n",
            "Processing batch 223/1563\n",
            "Processing batch 224/1563\n",
            "Processing batch 225/1563\n",
            "Processing batch 226/1563\n",
            "Processing batch 227/1563\n",
            "Processing batch 228/1563\n",
            "Processing batch 229/1563\n",
            "Processing batch 230/1563\n",
            "Processing batch 231/1563\n",
            "Processing batch 232/1563\n",
            "Processing batch 233/1563\n",
            "Processing batch 234/1563\n",
            "Processing batch 235/1563\n",
            "Processing batch 236/1563\n",
            "Processing batch 237/1563\n",
            "Processing batch 238/1563\n",
            "Processing batch 239/1563\n",
            "Processing batch 240/1563\n",
            "Processing batch 241/1563\n",
            "Processing batch 242/1563\n",
            "Processing batch 243/1563\n",
            "Processing batch 244/1563\n",
            "Processing batch 245/1563\n",
            "Processing batch 246/1563\n",
            "Processing batch 247/1563\n",
            "Processing batch 248/1563\n",
            "Processing batch 249/1563\n",
            "Processing batch 250/1563\n",
            "Processing batch 251/1563\n",
            "Processing batch 252/1563\n",
            "Processing batch 253/1563\n",
            "Processing batch 254/1563\n",
            "Processing batch 255/1563\n",
            "Processing batch 256/1563\n",
            "Processing batch 257/1563\n",
            "Processing batch 258/1563\n",
            "Processing batch 259/1563\n",
            "Processing batch 260/1563\n",
            "Processing batch 261/1563\n",
            "Processing batch 262/1563\n",
            "Processing batch 263/1563\n",
            "Processing batch 264/1563\n",
            "Processing batch 265/1563\n",
            "Processing batch 266/1563\n",
            "Processing batch 267/1563\n",
            "Processing batch 268/1563\n",
            "Processing batch 269/1563\n",
            "Processing batch 270/1563\n",
            "Processing batch 271/1563\n",
            "Processing batch 272/1563\n",
            "Processing batch 273/1563\n",
            "Processing batch 274/1563\n",
            "Processing batch 275/1563\n",
            "Processing batch 276/1563\n",
            "Processing batch 277/1563\n",
            "Processing batch 278/1563\n",
            "Processing batch 279/1563\n",
            "Processing batch 280/1563\n",
            "Processing batch 281/1563\n",
            "Processing batch 282/1563\n",
            "Processing batch 283/1563\n",
            "Processing batch 284/1563\n",
            "Processing batch 285/1563\n",
            "Processing batch 286/1563\n",
            "Processing batch 287/1563\n",
            "Processing batch 288/1563\n",
            "Processing batch 289/1563\n",
            "Processing batch 290/1563\n",
            "Processing batch 291/1563\n",
            "Processing batch 292/1563\n",
            "Processing batch 293/1563\n",
            "Processing batch 294/1563\n",
            "Processing batch 295/1563\n",
            "Processing batch 296/1563\n",
            "Processing batch 297/1563\n",
            "Processing batch 298/1563\n",
            "Processing batch 299/1563\n",
            "Processing batch 300/1563\n",
            "Processing batch 301/1563\n",
            "Processing batch 302/1563\n",
            "Processing batch 303/1563\n",
            "Processing batch 304/1563\n",
            "Processing batch 305/1563\n",
            "Processing batch 306/1563\n",
            "Processing batch 307/1563\n",
            "Processing batch 308/1563\n",
            "Processing batch 309/1563\n",
            "Processing batch 310/1563\n",
            "Processing batch 311/1563\n",
            "Processing batch 312/1563\n",
            "Processing batch 313/1563\n",
            "Processing batch 314/1563\n",
            "Processing batch 315/1563\n",
            "Processing batch 316/1563\n",
            "Processing batch 317/1563\n",
            "Processing batch 318/1563\n",
            "Processing batch 319/1563\n",
            "Processing batch 320/1563\n",
            "Processing batch 321/1563\n",
            "Processing batch 322/1563\n",
            "Processing batch 323/1563\n",
            "Processing batch 324/1563\n",
            "Processing batch 325/1563\n",
            "Processing batch 326/1563\n",
            "Processing batch 327/1563\n",
            "Processing batch 328/1563\n",
            "Processing batch 329/1563\n",
            "Processing batch 330/1563\n",
            "Processing batch 331/1563\n",
            "Processing batch 332/1563\n",
            "Processing batch 333/1563\n",
            "Processing batch 334/1563\n",
            "Processing batch 335/1563\n",
            "Processing batch 336/1563\n",
            "Processing batch 337/1563\n",
            "Processing batch 338/1563\n",
            "Processing batch 339/1563\n",
            "Processing batch 340/1563\n",
            "Processing batch 341/1563\n",
            "Processing batch 342/1563\n",
            "Processing batch 343/1563\n",
            "Processing batch 344/1563\n",
            "Processing batch 345/1563\n",
            "Processing batch 346/1563\n",
            "Processing batch 347/1563\n",
            "Processing batch 348/1563\n",
            "Processing batch 349/1563\n",
            "Processing batch 350/1563\n",
            "Processing batch 351/1563\n",
            "Processing batch 352/1563\n",
            "Processing batch 353/1563\n",
            "Processing batch 354/1563\n",
            "Processing batch 355/1563\n",
            "Processing batch 356/1563\n",
            "Processing batch 357/1563\n",
            "Processing batch 358/1563\n",
            "Processing batch 359/1563\n",
            "Processing batch 360/1563\n",
            "Processing batch 361/1563\n",
            "Processing batch 362/1563\n",
            "Processing batch 363/1563\n",
            "Processing batch 364/1563\n",
            "Processing batch 365/1563\n",
            "Processing batch 366/1563\n",
            "Processing batch 367/1563\n",
            "Processing batch 368/1563\n",
            "Processing batch 369/1563\n",
            "Processing batch 370/1563\n",
            "Processing batch 371/1563\n",
            "Processing batch 372/1563\n",
            "Processing batch 373/1563\n",
            "Processing batch 374/1563\n",
            "Processing batch 375/1563\n",
            "Processing batch 376/1563\n",
            "Processing batch 377/1563\n",
            "Processing batch 378/1563\n",
            "Processing batch 379/1563\n",
            "Processing batch 380/1563\n",
            "Processing batch 381/1563\n",
            "Processing batch 382/1563\n",
            "Processing batch 383/1563\n",
            "Processing batch 384/1563\n",
            "Processing batch 385/1563\n",
            "Processing batch 386/1563\n",
            "Processing batch 387/1563\n",
            "Processing batch 388/1563\n",
            "Processing batch 389/1563\n",
            "Processing batch 390/1563\n",
            "Processing batch 391/1563\n",
            "Processing batch 392/1563\n",
            "Processing batch 393/1563\n",
            "Processing batch 394/1563\n",
            "Processing batch 395/1563\n",
            "Processing batch 396/1563\n",
            "Processing batch 397/1563\n",
            "Processing batch 398/1563\n",
            "Processing batch 399/1563\n",
            "Processing batch 400/1563\n",
            "Processing batch 401/1563\n",
            "Processing batch 402/1563\n",
            "Processing batch 403/1563\n",
            "Processing batch 404/1563\n",
            "Processing batch 405/1563\n",
            "Processing batch 406/1563\n",
            "Processing batch 407/1563\n",
            "Processing batch 408/1563\n",
            "Processing batch 409/1563\n",
            "Processing batch 410/1563\n",
            "Processing batch 411/1563\n",
            "Processing batch 412/1563\n",
            "Processing batch 413/1563\n",
            "Processing batch 414/1563\n",
            "Processing batch 415/1563\n",
            "Processing batch 416/1563\n",
            "Processing batch 417/1563\n",
            "Processing batch 418/1563\n",
            "Processing batch 419/1563\n",
            "Processing batch 420/1563\n",
            "Processing batch 421/1563\n",
            "Processing batch 422/1563\n",
            "Processing batch 423/1563\n",
            "Processing batch 424/1563\n",
            "Processing batch 425/1563\n",
            "Processing batch 426/1563\n",
            "Processing batch 427/1563\n",
            "Processing batch 428/1563\n",
            "Processing batch 429/1563\n",
            "Processing batch 430/1563\n",
            "Processing batch 431/1563\n",
            "Processing batch 432/1563\n",
            "Processing batch 433/1563\n",
            "Processing batch 434/1563\n",
            "Processing batch 435/1563\n",
            "Processing batch 436/1563\n",
            "Processing batch 437/1563\n",
            "Processing batch 438/1563\n",
            "Processing batch 439/1563\n",
            "Processing batch 440/1563\n",
            "Processing batch 441/1563\n",
            "Processing batch 442/1563\n",
            "Processing batch 443/1563\n",
            "Processing batch 444/1563\n",
            "Processing batch 445/1563\n",
            "Processing batch 446/1563\n",
            "Processing batch 447/1563\n",
            "Processing batch 448/1563\n",
            "Processing batch 449/1563\n",
            "Processing batch 450/1563\n",
            "Processing batch 451/1563\n",
            "Processing batch 452/1563\n",
            "Processing batch 453/1563\n",
            "Processing batch 454/1563\n",
            "Processing batch 455/1563\n",
            "Processing batch 456/1563\n",
            "Processing batch 457/1563\n",
            "Processing batch 458/1563\n",
            "Processing batch 459/1563\n",
            "Processing batch 460/1563\n",
            "Processing batch 461/1563\n",
            "Processing batch 462/1563\n",
            "Processing batch 463/1563\n",
            "Processing batch 464/1563\n",
            "Processing batch 465/1563\n",
            "Processing batch 466/1563\n",
            "Processing batch 467/1563\n",
            "Processing batch 468/1563\n",
            "Processing batch 469/1563\n",
            "Processing batch 470/1563\n",
            "Processing batch 471/1563\n",
            "Processing batch 472/1563\n",
            "Processing batch 473/1563\n",
            "Processing batch 474/1563\n",
            "Processing batch 475/1563\n",
            "Processing batch 476/1563\n",
            "Processing batch 477/1563\n",
            "Processing batch 478/1563\n",
            "Processing batch 479/1563\n",
            "Processing batch 480/1563\n",
            "Processing batch 481/1563\n",
            "Processing batch 482/1563\n",
            "Processing batch 483/1563\n",
            "Processing batch 484/1563\n",
            "Processing batch 485/1563\n",
            "Processing batch 486/1563\n",
            "Processing batch 487/1563\n",
            "Processing batch 488/1563\n",
            "Processing batch 489/1563\n",
            "Processing batch 490/1563\n",
            "Processing batch 491/1563\n",
            "Processing batch 492/1563\n",
            "Processing batch 493/1563\n",
            "Processing batch 494/1563\n",
            "Processing batch 495/1563\n",
            "Processing batch 496/1563\n",
            "Processing batch 497/1563\n",
            "Processing batch 498/1563\n",
            "Processing batch 499/1563\n",
            "Processing batch 500/1563\n",
            "Processing batch 501/1563\n",
            "Processing batch 502/1563\n",
            "Processing batch 503/1563\n",
            "Processing batch 504/1563\n",
            "Processing batch 505/1563\n",
            "Processing batch 506/1563\n",
            "Processing batch 507/1563\n",
            "Processing batch 508/1563\n",
            "Processing batch 509/1563\n",
            "Processing batch 510/1563\n",
            "Processing batch 511/1563\n",
            "Processing batch 512/1563\n",
            "Processing batch 513/1563\n",
            "Processing batch 514/1563\n",
            "Processing batch 515/1563\n",
            "Processing batch 516/1563\n",
            "Processing batch 517/1563\n",
            "Processing batch 518/1563\n",
            "Processing batch 519/1563\n",
            "Processing batch 520/1563\n",
            "Processing batch 521/1563\n",
            "Processing batch 522/1563\n",
            "Processing batch 523/1563\n",
            "Processing batch 524/1563\n",
            "Processing batch 525/1563\n",
            "Processing batch 526/1563\n",
            "Processing batch 527/1563\n",
            "Processing batch 528/1563\n",
            "Processing batch 529/1563\n",
            "Processing batch 530/1563\n",
            "Processing batch 531/1563\n",
            "Processing batch 532/1563\n",
            "Processing batch 533/1563\n",
            "Processing batch 534/1563\n",
            "Processing batch 535/1563\n",
            "Processing batch 536/1563\n",
            "Processing batch 537/1563\n",
            "Processing batch 538/1563\n",
            "Processing batch 539/1563\n",
            "Processing batch 540/1563\n",
            "Processing batch 541/1563\n",
            "Processing batch 542/1563\n",
            "Processing batch 543/1563\n",
            "Processing batch 544/1563\n",
            "Processing batch 545/1563\n",
            "Processing batch 546/1563\n",
            "Processing batch 547/1563\n",
            "Processing batch 548/1563\n",
            "Processing batch 549/1563\n",
            "Processing batch 550/1563\n",
            "Processing batch 551/1563\n",
            "Processing batch 552/1563\n",
            "Processing batch 553/1563\n",
            "Processing batch 554/1563\n",
            "Processing batch 555/1563\n",
            "Processing batch 556/1563\n",
            "Processing batch 557/1563\n",
            "Processing batch 558/1563\n",
            "Processing batch 559/1563\n",
            "Processing batch 560/1563\n",
            "Processing batch 561/1563\n",
            "Processing batch 562/1563\n",
            "Processing batch 563/1563\n",
            "Processing batch 564/1563\n",
            "Processing batch 565/1563\n",
            "Processing batch 566/1563\n",
            "Processing batch 567/1563\n",
            "Processing batch 568/1563\n",
            "Processing batch 569/1563\n",
            "Processing batch 570/1563\n",
            "Processing batch 571/1563\n",
            "Processing batch 572/1563\n",
            "Processing batch 573/1563\n",
            "Processing batch 574/1563\n",
            "Processing batch 575/1563\n",
            "Processing batch 576/1563\n",
            "Processing batch 577/1563\n",
            "Processing batch 578/1563\n",
            "Processing batch 579/1563\n",
            "Processing batch 580/1563\n",
            "Processing batch 581/1563\n",
            "Processing batch 582/1563\n",
            "Processing batch 583/1563\n",
            "Processing batch 584/1563\n",
            "Processing batch 585/1563\n",
            "Processing batch 586/1563\n",
            "Processing batch 587/1563\n",
            "Processing batch 588/1563\n",
            "Processing batch 589/1563\n",
            "Processing batch 590/1563\n",
            "Processing batch 591/1563\n",
            "Processing batch 592/1563\n",
            "Processing batch 593/1563\n",
            "Processing batch 594/1563\n",
            "Processing batch 595/1563\n",
            "Processing batch 596/1563\n",
            "Processing batch 597/1563\n",
            "Processing batch 598/1563\n",
            "Processing batch 599/1563\n",
            "Processing batch 600/1563\n",
            "Processing batch 601/1563\n",
            "Processing batch 602/1563\n",
            "Processing batch 603/1563\n",
            "Processing batch 604/1563\n",
            "Processing batch 605/1563\n",
            "Processing batch 606/1563\n",
            "Processing batch 607/1563\n",
            "Processing batch 608/1563\n",
            "Processing batch 609/1563\n",
            "Processing batch 610/1563\n",
            "Processing batch 611/1563\n",
            "Processing batch 612/1563\n",
            "Processing batch 613/1563\n",
            "Processing batch 614/1563\n",
            "Processing batch 615/1563\n",
            "Processing batch 616/1563\n",
            "Processing batch 617/1563\n",
            "Processing batch 618/1563\n",
            "Processing batch 619/1563\n",
            "Processing batch 620/1563\n",
            "Processing batch 621/1563\n",
            "Processing batch 622/1563\n",
            "Processing batch 623/1563\n",
            "Processing batch 624/1563\n",
            "Processing batch 625/1563\n",
            "Processing batch 626/1563\n",
            "Processing batch 627/1563\n",
            "Processing batch 628/1563\n",
            "Processing batch 629/1563\n",
            "Processing batch 630/1563\n",
            "Processing batch 631/1563\n",
            "Processing batch 632/1563\n",
            "Processing batch 633/1563\n",
            "Processing batch 634/1563\n",
            "Processing batch 635/1563\n",
            "Processing batch 636/1563\n",
            "Processing batch 637/1563\n",
            "Processing batch 638/1563\n",
            "Processing batch 639/1563\n",
            "Processing batch 640/1563\n",
            "Processing batch 641/1563\n",
            "Processing batch 642/1563\n",
            "Processing batch 643/1563\n",
            "Processing batch 644/1563\n",
            "Processing batch 645/1563\n",
            "Processing batch 646/1563\n",
            "Processing batch 647/1563\n",
            "Processing batch 648/1563\n",
            "Processing batch 649/1563\n",
            "Processing batch 650/1563\n",
            "Processing batch 651/1563\n",
            "Processing batch 652/1563\n",
            "Processing batch 653/1563\n",
            "Processing batch 654/1563\n",
            "Processing batch 655/1563\n",
            "Processing batch 656/1563\n",
            "Processing batch 657/1563\n",
            "Processing batch 658/1563\n",
            "Processing batch 659/1563\n",
            "Processing batch 660/1563\n",
            "Processing batch 661/1563\n",
            "Processing batch 662/1563\n",
            "Processing batch 663/1563\n",
            "Processing batch 664/1563\n",
            "Processing batch 665/1563\n",
            "Processing batch 666/1563\n",
            "Processing batch 667/1563\n",
            "Processing batch 668/1563\n",
            "Processing batch 669/1563\n",
            "Processing batch 670/1563\n",
            "Processing batch 671/1563\n",
            "Processing batch 672/1563\n",
            "Processing batch 673/1563\n",
            "Processing batch 674/1563\n",
            "Processing batch 675/1563\n",
            "Processing batch 676/1563\n",
            "Processing batch 677/1563\n",
            "Processing batch 678/1563\n",
            "Processing batch 679/1563\n",
            "Processing batch 680/1563\n",
            "Processing batch 681/1563\n",
            "Processing batch 682/1563\n",
            "Processing batch 683/1563\n",
            "Processing batch 684/1563\n",
            "Processing batch 685/1563\n",
            "Processing batch 686/1563\n",
            "Processing batch 687/1563\n",
            "Processing batch 688/1563\n",
            "Processing batch 689/1563\n",
            "Processing batch 690/1563\n",
            "Processing batch 691/1563\n",
            "Processing batch 692/1563\n",
            "Processing batch 693/1563\n",
            "Processing batch 694/1563\n",
            "Processing batch 695/1563\n",
            "Processing batch 696/1563\n",
            "Processing batch 697/1563\n",
            "Processing batch 698/1563\n",
            "Processing batch 699/1563\n",
            "Processing batch 700/1563\n",
            "Processing batch 701/1563\n",
            "Processing batch 702/1563\n",
            "Processing batch 703/1563\n",
            "Processing batch 704/1563\n",
            "Processing batch 705/1563\n",
            "Processing batch 706/1563\n",
            "Processing batch 707/1563\n",
            "Processing batch 708/1563\n",
            "Processing batch 709/1563\n",
            "Processing batch 710/1563\n",
            "Processing batch 711/1563\n",
            "Processing batch 712/1563\n",
            "Processing batch 713/1563\n",
            "Processing batch 714/1563\n",
            "Processing batch 715/1563\n",
            "Processing batch 716/1563\n",
            "Processing batch 717/1563\n",
            "Processing batch 718/1563\n",
            "Processing batch 719/1563\n",
            "Processing batch 720/1563\n",
            "Processing batch 721/1563\n",
            "Processing batch 722/1563\n",
            "Processing batch 723/1563\n",
            "Processing batch 724/1563\n",
            "Processing batch 725/1563\n",
            "Processing batch 726/1563\n",
            "Processing batch 727/1563\n",
            "Processing batch 728/1563\n",
            "Processing batch 729/1563\n",
            "Processing batch 730/1563\n",
            "Processing batch 731/1563\n",
            "Processing batch 732/1563\n",
            "Processing batch 733/1563\n",
            "Processing batch 734/1563\n",
            "Processing batch 735/1563\n",
            "Processing batch 736/1563\n",
            "Processing batch 737/1563\n",
            "Processing batch 738/1563\n",
            "Processing batch 739/1563\n",
            "Processing batch 740/1563\n",
            "Processing batch 741/1563\n",
            "Processing batch 742/1563\n",
            "Processing batch 743/1563\n",
            "Processing batch 744/1563\n",
            "Processing batch 745/1563\n",
            "Processing batch 746/1563\n",
            "Processing batch 747/1563\n",
            "Processing batch 748/1563\n",
            "Processing batch 749/1563\n",
            "Processing batch 750/1563\n",
            "Processing batch 751/1563\n",
            "Processing batch 752/1563\n",
            "Processing batch 753/1563\n",
            "Processing batch 754/1563\n",
            "Processing batch 755/1563\n",
            "Processing batch 756/1563\n",
            "Processing batch 757/1563\n",
            "Processing batch 758/1563\n",
            "Processing batch 759/1563\n",
            "Processing batch 760/1563\n",
            "Processing batch 761/1563\n",
            "Processing batch 762/1563\n",
            "Processing batch 763/1563\n",
            "Processing batch 764/1563\n",
            "Processing batch 765/1563\n",
            "Processing batch 766/1563\n",
            "Processing batch 767/1563\n",
            "Processing batch 768/1563\n",
            "Processing batch 769/1563\n",
            "Processing batch 770/1563\n",
            "Processing batch 771/1563\n",
            "Processing batch 772/1563\n",
            "Processing batch 773/1563\n",
            "Processing batch 774/1563\n",
            "Processing batch 775/1563\n",
            "Processing batch 776/1563\n",
            "Processing batch 777/1563\n",
            "Processing batch 778/1563\n",
            "Processing batch 779/1563\n",
            "Processing batch 780/1563\n",
            "Processing batch 781/1563\n",
            "Processing batch 782/1563\n",
            "Processing batch 783/1563\n",
            "Processing batch 784/1563\n",
            "Processing batch 785/1563\n",
            "Processing batch 786/1563\n",
            "Processing batch 787/1563\n",
            "Processing batch 788/1563\n",
            "Processing batch 789/1563\n",
            "Processing batch 790/1563\n",
            "Processing batch 791/1563\n",
            "Processing batch 792/1563\n",
            "Processing batch 793/1563\n",
            "Processing batch 794/1563\n",
            "Processing batch 795/1563\n",
            "Processing batch 796/1563\n",
            "Processing batch 797/1563\n",
            "Processing batch 798/1563\n",
            "Processing batch 799/1563\n",
            "Processing batch 800/1563\n",
            "Processing batch 801/1563\n",
            "Processing batch 802/1563\n",
            "Processing batch 803/1563\n",
            "Processing batch 804/1563\n",
            "Processing batch 805/1563\n",
            "Processing batch 806/1563\n",
            "Processing batch 807/1563\n",
            "Processing batch 808/1563\n",
            "Processing batch 809/1563\n",
            "Processing batch 810/1563\n",
            "Processing batch 811/1563\n",
            "Processing batch 812/1563\n",
            "Processing batch 813/1563\n",
            "Processing batch 814/1563\n",
            "Processing batch 815/1563\n",
            "Processing batch 816/1563\n",
            "Processing batch 817/1563\n",
            "Processing batch 818/1563\n",
            "Processing batch 819/1563\n",
            "Processing batch 820/1563\n",
            "Processing batch 821/1563\n",
            "Processing batch 822/1563\n",
            "Processing batch 823/1563\n",
            "Processing batch 824/1563\n",
            "Processing batch 825/1563\n",
            "Processing batch 826/1563\n",
            "Processing batch 827/1563\n",
            "Processing batch 828/1563\n",
            "Processing batch 829/1563\n",
            "Processing batch 830/1563\n",
            "Processing batch 831/1563\n",
            "Processing batch 832/1563\n",
            "Processing batch 833/1563\n",
            "Processing batch 834/1563\n",
            "Processing batch 835/1563\n",
            "Processing batch 836/1563\n",
            "Processing batch 837/1563\n",
            "Processing batch 838/1563\n",
            "Processing batch 839/1563\n",
            "Processing batch 840/1563\n",
            "Processing batch 841/1563\n",
            "Processing batch 842/1563\n",
            "Processing batch 843/1563\n",
            "Processing batch 844/1563\n",
            "Processing batch 845/1563\n",
            "Processing batch 846/1563\n",
            "Processing batch 847/1563\n",
            "Processing batch 848/1563\n",
            "Processing batch 849/1563\n",
            "Processing batch 850/1563\n",
            "Processing batch 851/1563\n",
            "Processing batch 852/1563\n",
            "Processing batch 853/1563\n",
            "Processing batch 854/1563\n",
            "Processing batch 855/1563\n",
            "Processing batch 856/1563\n",
            "Processing batch 857/1563\n",
            "Processing batch 858/1563\n",
            "Processing batch 859/1563\n",
            "Processing batch 860/1563\n",
            "Processing batch 861/1563\n",
            "Processing batch 862/1563\n",
            "Processing batch 863/1563\n",
            "Processing batch 864/1563\n",
            "Processing batch 865/1563\n",
            "Processing batch 866/1563\n",
            "Processing batch 867/1563\n",
            "Processing batch 868/1563\n",
            "Processing batch 869/1563\n",
            "Processing batch 870/1563\n",
            "Processing batch 871/1563\n",
            "Processing batch 872/1563\n",
            "Processing batch 873/1563\n",
            "Processing batch 874/1563\n",
            "Processing batch 875/1563\n",
            "Processing batch 876/1563\n",
            "Processing batch 877/1563\n",
            "Processing batch 878/1563\n",
            "Processing batch 879/1563\n",
            "Processing batch 880/1563\n",
            "Processing batch 881/1563\n",
            "Processing batch 882/1563\n",
            "Processing batch 883/1563\n",
            "Processing batch 884/1563\n",
            "Processing batch 885/1563\n",
            "Processing batch 886/1563\n",
            "Processing batch 887/1563\n",
            "Processing batch 888/1563\n",
            "Processing batch 889/1563\n",
            "Processing batch 890/1563\n",
            "Processing batch 891/1563\n",
            "Processing batch 892/1563\n",
            "Processing batch 893/1563\n",
            "Processing batch 894/1563\n",
            "Processing batch 895/1563\n",
            "Processing batch 896/1563\n",
            "Processing batch 897/1563\n",
            "Processing batch 898/1563\n",
            "Processing batch 899/1563\n",
            "Processing batch 900/1563\n",
            "Processing batch 901/1563\n",
            "Processing batch 902/1563\n",
            "Processing batch 903/1563\n",
            "Processing batch 904/1563\n",
            "Processing batch 905/1563\n",
            "Processing batch 906/1563\n",
            "Processing batch 907/1563\n",
            "Processing batch 908/1563\n",
            "Processing batch 909/1563\n",
            "Processing batch 910/1563\n",
            "Processing batch 911/1563\n",
            "Processing batch 912/1563\n",
            "Processing batch 913/1563\n",
            "Processing batch 914/1563\n",
            "Processing batch 915/1563\n",
            "Processing batch 916/1563\n",
            "Processing batch 917/1563\n",
            "Processing batch 918/1563\n",
            "Processing batch 919/1563\n",
            "Processing batch 920/1563\n",
            "Processing batch 921/1563\n",
            "Processing batch 922/1563\n",
            "Processing batch 923/1563\n",
            "Processing batch 924/1563\n",
            "Processing batch 925/1563\n",
            "Processing batch 926/1563\n",
            "Processing batch 927/1563\n",
            "Processing batch 928/1563\n",
            "Processing batch 929/1563\n",
            "Processing batch 930/1563\n",
            "Processing batch 931/1563\n",
            "Processing batch 932/1563\n",
            "Processing batch 933/1563\n",
            "Processing batch 934/1563\n",
            "Processing batch 935/1563\n",
            "Processing batch 936/1563\n",
            "Processing batch 937/1563\n",
            "Processing batch 938/1563\n",
            "Processing batch 939/1563\n",
            "Processing batch 940/1563\n",
            "Processing batch 941/1563\n",
            "Processing batch 942/1563\n",
            "Processing batch 943/1563\n",
            "Processing batch 944/1563\n",
            "Processing batch 945/1563\n",
            "Processing batch 946/1563\n",
            "Processing batch 947/1563\n",
            "Processing batch 948/1563\n",
            "Processing batch 949/1563\n",
            "Processing batch 950/1563\n",
            "Processing batch 951/1563\n",
            "Processing batch 952/1563\n",
            "Processing batch 953/1563\n",
            "Processing batch 954/1563\n",
            "Processing batch 955/1563\n",
            "Processing batch 956/1563\n",
            "Processing batch 957/1563\n",
            "Processing batch 958/1563\n",
            "Processing batch 959/1563\n",
            "Processing batch 960/1563\n",
            "Processing batch 961/1563\n",
            "Processing batch 962/1563\n",
            "Processing batch 963/1563\n",
            "Processing batch 964/1563\n",
            "Processing batch 965/1563\n",
            "Processing batch 966/1563\n",
            "Processing batch 967/1563\n",
            "Processing batch 968/1563\n",
            "Processing batch 969/1563\n",
            "Processing batch 970/1563\n",
            "Processing batch 971/1563\n",
            "Processing batch 972/1563\n",
            "Processing batch 973/1563\n",
            "Processing batch 974/1563\n",
            "Processing batch 975/1563\n",
            "Processing batch 976/1563\n",
            "Processing batch 977/1563\n",
            "Processing batch 978/1563\n",
            "Processing batch 979/1563\n",
            "Processing batch 980/1563\n",
            "Processing batch 981/1563\n",
            "Processing batch 982/1563\n",
            "Processing batch 983/1563\n",
            "Processing batch 984/1563\n",
            "Processing batch 985/1563\n",
            "Processing batch 986/1563\n",
            "Processing batch 987/1563\n",
            "Processing batch 988/1563\n",
            "Processing batch 989/1563\n",
            "Processing batch 990/1563\n",
            "Processing batch 991/1563\n",
            "Processing batch 992/1563\n",
            "Processing batch 993/1563\n",
            "Processing batch 994/1563\n",
            "Processing batch 995/1563\n",
            "Processing batch 996/1563\n",
            "Processing batch 997/1563\n",
            "Processing batch 998/1563\n",
            "Processing batch 999/1563\n",
            "Processing batch 1000/1563\n",
            "Processing batch 1001/1563\n",
            "Processing batch 1002/1563\n",
            "Processing batch 1003/1563\n",
            "Processing batch 1004/1563\n",
            "Processing batch 1005/1563\n",
            "Processing batch 1006/1563\n",
            "Processing batch 1007/1563\n",
            "Processing batch 1008/1563\n",
            "Processing batch 1009/1563\n",
            "Processing batch 1010/1563\n",
            "Processing batch 1011/1563\n",
            "Processing batch 1012/1563\n",
            "Processing batch 1013/1563\n",
            "Processing batch 1014/1563\n",
            "Processing batch 1015/1563\n",
            "Processing batch 1016/1563\n",
            "Processing batch 1017/1563\n",
            "Processing batch 1018/1563\n",
            "Processing batch 1019/1563\n",
            "Processing batch 1020/1563\n",
            "Processing batch 1021/1563\n",
            "Processing batch 1022/1563\n",
            "Processing batch 1023/1563\n",
            "Processing batch 1024/1563\n",
            "Processing batch 1025/1563\n",
            "Processing batch 1026/1563\n",
            "Processing batch 1027/1563\n",
            "Processing batch 1028/1563\n",
            "Processing batch 1029/1563\n",
            "Processing batch 1030/1563\n",
            "Processing batch 1031/1563\n",
            "Processing batch 1032/1563\n",
            "Processing batch 1033/1563\n",
            "Processing batch 1034/1563\n",
            "Processing batch 1035/1563\n",
            "Processing batch 1036/1563\n",
            "Processing batch 1037/1563\n",
            "Processing batch 1038/1563\n",
            "Processing batch 1039/1563\n",
            "Processing batch 1040/1563\n",
            "Processing batch 1041/1563\n",
            "Processing batch 1042/1563\n",
            "Processing batch 1043/1563\n",
            "Processing batch 1044/1563\n",
            "Processing batch 1045/1563\n",
            "Processing batch 1046/1563\n",
            "Processing batch 1047/1563\n",
            "Processing batch 1048/1563\n",
            "Processing batch 1049/1563\n",
            "Processing batch 1050/1563\n",
            "Processing batch 1051/1563\n",
            "Processing batch 1052/1563\n",
            "Processing batch 1053/1563\n",
            "Processing batch 1054/1563\n",
            "Processing batch 1055/1563\n",
            "Processing batch 1056/1563\n",
            "Processing batch 1057/1563\n",
            "Processing batch 1058/1563\n",
            "Processing batch 1059/1563\n",
            "Processing batch 1060/1563\n",
            "Processing batch 1061/1563\n",
            "Processing batch 1062/1563\n",
            "Processing batch 1063/1563\n",
            "Processing batch 1064/1563\n",
            "Processing batch 1065/1563\n",
            "Processing batch 1066/1563\n",
            "Processing batch 1067/1563\n",
            "Processing batch 1068/1563\n",
            "Processing batch 1069/1563\n",
            "Processing batch 1070/1563\n",
            "Processing batch 1071/1563\n",
            "Processing batch 1072/1563\n",
            "Processing batch 1073/1563\n",
            "Processing batch 1074/1563\n",
            "Processing batch 1075/1563\n",
            "Processing batch 1076/1563\n",
            "Processing batch 1077/1563\n",
            "Processing batch 1078/1563\n",
            "Processing batch 1079/1563\n",
            "Processing batch 1080/1563\n",
            "Processing batch 1081/1563\n",
            "Processing batch 1082/1563\n",
            "Processing batch 1083/1563\n",
            "Processing batch 1084/1563\n",
            "Processing batch 1085/1563\n",
            "Processing batch 1086/1563\n",
            "Processing batch 1087/1563\n",
            "Processing batch 1088/1563\n",
            "Processing batch 1089/1563\n",
            "Processing batch 1090/1563\n",
            "Processing batch 1091/1563\n",
            "Processing batch 1092/1563\n",
            "Processing batch 1093/1563\n",
            "Processing batch 1094/1563\n",
            "Processing batch 1095/1563\n",
            "Processing batch 1096/1563\n",
            "Processing batch 1097/1563\n",
            "Processing batch 1098/1563\n",
            "Processing batch 1099/1563\n",
            "Processing batch 1100/1563\n",
            "Processing batch 1101/1563\n",
            "Processing batch 1102/1563\n",
            "Processing batch 1103/1563\n",
            "Processing batch 1104/1563\n",
            "Processing batch 1105/1563\n",
            "Processing batch 1106/1563\n",
            "Processing batch 1107/1563\n",
            "Processing batch 1108/1563\n",
            "Processing batch 1109/1563\n",
            "Processing batch 1110/1563\n",
            "Processing batch 1111/1563\n",
            "Processing batch 1112/1563\n",
            "Processing batch 1113/1563\n",
            "Processing batch 1114/1563\n",
            "Processing batch 1115/1563\n",
            "Processing batch 1116/1563\n",
            "Processing batch 1117/1563\n",
            "Processing batch 1118/1563\n",
            "Processing batch 1119/1563\n",
            "Processing batch 1120/1563\n",
            "Processing batch 1121/1563\n",
            "Processing batch 1122/1563\n",
            "Processing batch 1123/1563\n",
            "Processing batch 1124/1563\n",
            "Processing batch 1125/1563\n",
            "Processing batch 1126/1563\n",
            "Processing batch 1127/1563\n",
            "Processing batch 1128/1563\n",
            "Processing batch 1129/1563\n",
            "Processing batch 1130/1563\n",
            "Processing batch 1131/1563\n",
            "Processing batch 1132/1563\n",
            "Processing batch 1133/1563\n",
            "Processing batch 1134/1563\n",
            "Processing batch 1135/1563\n",
            "Processing batch 1136/1563\n",
            "Processing batch 1137/1563\n",
            "Processing batch 1138/1563\n",
            "Processing batch 1139/1563\n",
            "Processing batch 1140/1563\n",
            "Processing batch 1141/1563\n",
            "Processing batch 1142/1563\n",
            "Processing batch 1143/1563\n",
            "Processing batch 1144/1563\n",
            "Processing batch 1145/1563\n",
            "Processing batch 1146/1563\n",
            "Processing batch 1147/1563\n",
            "Processing batch 1148/1563\n",
            "Processing batch 1149/1563\n",
            "Processing batch 1150/1563\n",
            "Processing batch 1151/1563\n",
            "Processing batch 1152/1563\n",
            "Processing batch 1153/1563\n",
            "Processing batch 1154/1563\n",
            "Processing batch 1155/1563\n",
            "Processing batch 1156/1563\n",
            "Processing batch 1157/1563\n",
            "Processing batch 1158/1563\n",
            "Processing batch 1159/1563\n",
            "Processing batch 1160/1563\n",
            "Processing batch 1161/1563\n",
            "Processing batch 1162/1563\n",
            "Processing batch 1163/1563\n",
            "Processing batch 1164/1563\n",
            "Processing batch 1165/1563\n",
            "Processing batch 1166/1563\n",
            "Processing batch 1167/1563\n",
            "Processing batch 1168/1563\n",
            "Processing batch 1169/1563\n",
            "Processing batch 1170/1563\n",
            "Processing batch 1171/1563\n",
            "Processing batch 1172/1563\n",
            "Processing batch 1173/1563\n",
            "Processing batch 1174/1563\n",
            "Processing batch 1175/1563\n",
            "Processing batch 1176/1563\n",
            "Processing batch 1177/1563\n",
            "Processing batch 1178/1563\n",
            "Processing batch 1179/1563\n",
            "Processing batch 1180/1563\n",
            "Processing batch 1181/1563\n",
            "Processing batch 1182/1563\n",
            "Processing batch 1183/1563\n",
            "Processing batch 1184/1563\n",
            "Processing batch 1185/1563\n",
            "Processing batch 1186/1563\n",
            "Processing batch 1187/1563\n",
            "Processing batch 1188/1563\n",
            "Processing batch 1189/1563\n",
            "Processing batch 1190/1563\n",
            "Processing batch 1191/1563\n",
            "Processing batch 1192/1563\n",
            "Processing batch 1193/1563\n",
            "Processing batch 1194/1563\n",
            "Processing batch 1195/1563\n",
            "Processing batch 1196/1563\n",
            "Processing batch 1197/1563\n",
            "Processing batch 1198/1563\n",
            "Processing batch 1199/1563\n",
            "Processing batch 1200/1563\n",
            "Processing batch 1201/1563\n",
            "Processing batch 1202/1563\n",
            "Processing batch 1203/1563\n",
            "Processing batch 1204/1563\n",
            "Processing batch 1205/1563\n",
            "Processing batch 1206/1563\n",
            "Processing batch 1207/1563\n",
            "Processing batch 1208/1563\n",
            "Processing batch 1209/1563\n",
            "Processing batch 1210/1563\n",
            "Processing batch 1211/1563\n",
            "Processing batch 1212/1563\n",
            "Processing batch 1213/1563\n",
            "Processing batch 1214/1563\n",
            "Processing batch 1215/1563\n",
            "Processing batch 1216/1563\n",
            "Processing batch 1217/1563\n",
            "Processing batch 1218/1563\n",
            "Processing batch 1219/1563\n",
            "Processing batch 1220/1563\n",
            "Processing batch 1221/1563\n",
            "Processing batch 1222/1563\n",
            "Processing batch 1223/1563\n",
            "Processing batch 1224/1563\n",
            "Processing batch 1225/1563\n",
            "Processing batch 1226/1563\n",
            "Processing batch 1227/1563\n",
            "Processing batch 1228/1563\n",
            "Processing batch 1229/1563\n",
            "Processing batch 1230/1563\n",
            "Processing batch 1231/1563\n",
            "Processing batch 1232/1563\n",
            "Processing batch 1233/1563\n",
            "Processing batch 1234/1563\n",
            "Processing batch 1235/1563\n",
            "Processing batch 1236/1563\n",
            "Processing batch 1237/1563\n",
            "Processing batch 1238/1563\n",
            "Processing batch 1239/1563\n",
            "Processing batch 1240/1563\n",
            "Processing batch 1241/1563\n",
            "Processing batch 1242/1563\n",
            "Processing batch 1243/1563\n",
            "Processing batch 1244/1563\n",
            "Processing batch 1245/1563\n",
            "Processing batch 1246/1563\n",
            "Processing batch 1247/1563\n",
            "Processing batch 1248/1563\n",
            "Processing batch 1249/1563\n",
            "Processing batch 1250/1563\n",
            "Processing batch 1251/1563\n",
            "Processing batch 1252/1563\n",
            "Processing batch 1253/1563\n",
            "Processing batch 1254/1563\n",
            "Processing batch 1255/1563\n",
            "Processing batch 1256/1563\n",
            "Processing batch 1257/1563\n",
            "Processing batch 1258/1563\n",
            "Processing batch 1259/1563\n",
            "Processing batch 1260/1563\n",
            "Processing batch 1261/1563\n",
            "Processing batch 1262/1563\n",
            "Processing batch 1263/1563\n",
            "Processing batch 1264/1563\n",
            "Processing batch 1265/1563\n",
            "Processing batch 1266/1563\n",
            "Processing batch 1267/1563\n",
            "Processing batch 1268/1563\n",
            "Processing batch 1269/1563\n",
            "Processing batch 1270/1563\n",
            "Processing batch 1271/1563\n",
            "Processing batch 1272/1563\n",
            "Processing batch 1273/1563\n",
            "Processing batch 1274/1563\n",
            "Processing batch 1275/1563\n",
            "Processing batch 1276/1563\n",
            "Processing batch 1277/1563\n",
            "Processing batch 1278/1563\n",
            "Processing batch 1279/1563\n",
            "Processing batch 1280/1563\n",
            "Processing batch 1281/1563\n",
            "Processing batch 1282/1563\n",
            "Processing batch 1283/1563\n",
            "Processing batch 1284/1563\n",
            "Processing batch 1285/1563\n",
            "Processing batch 1286/1563\n",
            "Processing batch 1287/1563\n",
            "Processing batch 1288/1563\n",
            "Processing batch 1289/1563\n",
            "Processing batch 1290/1563\n",
            "Processing batch 1291/1563\n",
            "Processing batch 1292/1563\n",
            "Processing batch 1293/1563\n",
            "Processing batch 1294/1563\n",
            "Processing batch 1295/1563\n",
            "Processing batch 1296/1563\n",
            "Processing batch 1297/1563\n",
            "Processing batch 1298/1563\n",
            "Processing batch 1299/1563\n",
            "Processing batch 1300/1563\n",
            "Processing batch 1301/1563\n",
            "Processing batch 1302/1563\n",
            "Processing batch 1303/1563\n",
            "Processing batch 1304/1563\n",
            "Processing batch 1305/1563\n",
            "Processing batch 1306/1563\n",
            "Processing batch 1307/1563\n",
            "Processing batch 1308/1563\n",
            "Processing batch 1309/1563\n",
            "Processing batch 1310/1563\n",
            "Processing batch 1311/1563\n",
            "Processing batch 1312/1563\n",
            "Processing batch 1313/1563\n",
            "Processing batch 1314/1563\n",
            "Processing batch 1315/1563\n",
            "Processing batch 1316/1563\n",
            "Processing batch 1317/1563\n",
            "Processing batch 1318/1563\n",
            "Processing batch 1319/1563\n",
            "Processing batch 1320/1563\n",
            "Processing batch 1321/1563\n",
            "Processing batch 1322/1563\n",
            "Processing batch 1323/1563\n",
            "Processing batch 1324/1563\n",
            "Processing batch 1325/1563\n",
            "Processing batch 1326/1563\n",
            "Processing batch 1327/1563\n",
            "Processing batch 1328/1563\n",
            "Processing batch 1329/1563\n",
            "Processing batch 1330/1563\n",
            "Processing batch 1331/1563\n",
            "Processing batch 1332/1563\n",
            "Processing batch 1333/1563\n",
            "Processing batch 1334/1563\n",
            "Processing batch 1335/1563\n",
            "Processing batch 1336/1563\n",
            "Processing batch 1337/1563\n",
            "Processing batch 1338/1563\n",
            "Processing batch 1339/1563\n",
            "Processing batch 1340/1563\n",
            "Processing batch 1341/1563\n",
            "Processing batch 1342/1563\n",
            "Processing batch 1343/1563\n",
            "Processing batch 1344/1563\n",
            "Processing batch 1345/1563\n",
            "Processing batch 1346/1563\n",
            "Processing batch 1347/1563\n",
            "Processing batch 1348/1563\n",
            "Processing batch 1349/1563\n",
            "Processing batch 1350/1563\n",
            "Processing batch 1351/1563\n",
            "Processing batch 1352/1563\n",
            "Processing batch 1353/1563\n",
            "Processing batch 1354/1563\n",
            "Processing batch 1355/1563\n",
            "Processing batch 1356/1563\n",
            "Processing batch 1357/1563\n",
            "Processing batch 1358/1563\n",
            "Processing batch 1359/1563\n",
            "Processing batch 1360/1563\n",
            "Processing batch 1361/1563\n",
            "Processing batch 1362/1563\n",
            "Processing batch 1363/1563\n",
            "Processing batch 1364/1563\n",
            "Processing batch 1365/1563\n",
            "Processing batch 1366/1563\n",
            "Processing batch 1367/1563\n",
            "Processing batch 1368/1563\n",
            "Processing batch 1369/1563\n",
            "Processing batch 1370/1563\n",
            "Processing batch 1371/1563\n",
            "Processing batch 1372/1563\n",
            "Processing batch 1373/1563\n",
            "Processing batch 1374/1563\n",
            "Processing batch 1375/1563\n",
            "Processing batch 1376/1563\n",
            "Processing batch 1377/1563\n",
            "Processing batch 1378/1563\n",
            "Processing batch 1379/1563\n",
            "Processing batch 1380/1563\n",
            "Processing batch 1381/1563\n",
            "Processing batch 1382/1563\n",
            "Processing batch 1383/1563\n",
            "Processing batch 1384/1563\n",
            "Processing batch 1385/1563\n",
            "Processing batch 1386/1563\n",
            "Processing batch 1387/1563\n",
            "Processing batch 1388/1563\n",
            "Processing batch 1389/1563\n",
            "Processing batch 1390/1563\n",
            "Processing batch 1391/1563\n",
            "Processing batch 1392/1563\n",
            "Processing batch 1393/1563\n",
            "Processing batch 1394/1563\n",
            "Processing batch 1395/1563\n",
            "Processing batch 1396/1563\n",
            "Processing batch 1397/1563\n",
            "Processing batch 1398/1563\n",
            "Processing batch 1399/1563\n",
            "Processing batch 1400/1563\n",
            "Processing batch 1401/1563\n",
            "Processing batch 1402/1563\n",
            "Processing batch 1403/1563\n",
            "Processing batch 1404/1563\n",
            "Processing batch 1405/1563\n",
            "Processing batch 1406/1563\n",
            "Processing batch 1407/1563\n",
            "Processing batch 1408/1563\n",
            "Processing batch 1409/1563\n",
            "Processing batch 1410/1563\n",
            "Processing batch 1411/1563\n",
            "Processing batch 1412/1563\n",
            "Processing batch 1413/1563\n",
            "Processing batch 1414/1563\n",
            "Processing batch 1415/1563\n",
            "Processing batch 1416/1563\n",
            "Processing batch 1417/1563\n",
            "Processing batch 1418/1563\n",
            "Processing batch 1419/1563\n",
            "Processing batch 1420/1563\n",
            "Processing batch 1421/1563\n",
            "Processing batch 1422/1563\n",
            "Processing batch 1423/1563\n",
            "Processing batch 1424/1563\n",
            "Processing batch 1425/1563\n",
            "Processing batch 1426/1563\n",
            "Processing batch 1427/1563\n",
            "Processing batch 1428/1563\n",
            "Processing batch 1429/1563\n",
            "Processing batch 1430/1563\n",
            "Processing batch 1431/1563\n",
            "Processing batch 1432/1563\n",
            "Processing batch 1433/1563\n",
            "Processing batch 1434/1563\n",
            "Processing batch 1435/1563\n",
            "Processing batch 1436/1563\n",
            "Processing batch 1437/1563\n",
            "Processing batch 1438/1563\n",
            "Processing batch 1439/1563\n",
            "Processing batch 1440/1563\n",
            "Processing batch 1441/1563\n",
            "Processing batch 1442/1563\n",
            "Processing batch 1443/1563\n",
            "Processing batch 1444/1563\n",
            "Processing batch 1445/1563\n",
            "Processing batch 1446/1563\n",
            "Processing batch 1447/1563\n",
            "Processing batch 1448/1563\n",
            "Processing batch 1449/1563\n",
            "Processing batch 1450/1563\n",
            "Processing batch 1451/1563\n",
            "Processing batch 1452/1563\n",
            "Processing batch 1453/1563\n",
            "Processing batch 1454/1563\n",
            "Processing batch 1455/1563\n",
            "Processing batch 1456/1563\n",
            "Processing batch 1457/1563\n",
            "Processing batch 1458/1563\n",
            "Processing batch 1459/1563\n",
            "Processing batch 1460/1563\n",
            "Processing batch 1461/1563\n",
            "Processing batch 1462/1563\n",
            "Processing batch 1463/1563\n",
            "Processing batch 1464/1563\n",
            "Processing batch 1465/1563\n",
            "Processing batch 1466/1563\n",
            "Processing batch 1467/1563\n",
            "Processing batch 1468/1563\n",
            "Processing batch 1469/1563\n",
            "Processing batch 1470/1563\n",
            "Processing batch 1471/1563\n",
            "Processing batch 1472/1563\n",
            "Processing batch 1473/1563\n",
            "Processing batch 1474/1563\n",
            "Processing batch 1475/1563\n",
            "Processing batch 1476/1563\n",
            "Processing batch 1477/1563\n",
            "Processing batch 1478/1563\n",
            "Processing batch 1479/1563\n",
            "Processing batch 1480/1563\n",
            "Processing batch 1481/1563\n",
            "Processing batch 1482/1563\n",
            "Processing batch 1483/1563\n",
            "Processing batch 1484/1563\n",
            "Processing batch 1485/1563\n",
            "Processing batch 1486/1563\n",
            "Processing batch 1487/1563\n",
            "Processing batch 1488/1563\n",
            "Processing batch 1489/1563\n",
            "Processing batch 1490/1563\n",
            "Processing batch 1491/1563\n",
            "Processing batch 1492/1563\n",
            "Processing batch 1493/1563\n",
            "Processing batch 1494/1563\n",
            "Processing batch 1495/1563\n",
            "Processing batch 1496/1563\n",
            "Processing batch 1497/1563\n",
            "Processing batch 1498/1563\n",
            "Processing batch 1499/1563\n",
            "Processing batch 1500/1563\n",
            "Processing batch 1501/1563\n",
            "Processing batch 1502/1563\n",
            "Processing batch 1503/1563\n",
            "Processing batch 1504/1563\n",
            "Processing batch 1505/1563\n",
            "Processing batch 1506/1563\n",
            "Processing batch 1507/1563\n",
            "Processing batch 1508/1563\n",
            "Processing batch 1509/1563\n",
            "Processing batch 1510/1563\n",
            "Processing batch 1511/1563\n",
            "Processing batch 1512/1563\n",
            "Processing batch 1513/1563\n",
            "Processing batch 1514/1563\n",
            "Processing batch 1515/1563\n",
            "Processing batch 1516/1563\n",
            "Processing batch 1517/1563\n",
            "Processing batch 1518/1563\n",
            "Processing batch 1519/1563\n",
            "Processing batch 1520/1563\n",
            "Processing batch 1521/1563\n",
            "Processing batch 1522/1563\n",
            "Processing batch 1523/1563\n",
            "Processing batch 1524/1563\n",
            "Processing batch 1525/1563\n",
            "Processing batch 1526/1563\n",
            "Processing batch 1527/1563\n",
            "Processing batch 1528/1563\n",
            "Processing batch 1529/1563\n",
            "Processing batch 1530/1563\n",
            "Processing batch 1531/1563\n",
            "Processing batch 1532/1563\n",
            "Processing batch 1533/1563\n",
            "Processing batch 1534/1563\n",
            "Processing batch 1535/1563\n",
            "Processing batch 1536/1563\n",
            "Processing batch 1537/1563\n",
            "Processing batch 1538/1563\n",
            "Processing batch 1539/1563\n",
            "Processing batch 1540/1563\n",
            "Processing batch 1541/1563\n",
            "Processing batch 1542/1563\n",
            "Processing batch 1543/1563\n",
            "Processing batch 1544/1563\n",
            "Processing batch 1545/1563\n",
            "Processing batch 1546/1563\n",
            "Processing batch 1547/1563\n",
            "Processing batch 1548/1563\n",
            "Processing batch 1549/1563\n",
            "Processing batch 1550/1563\n",
            "Processing batch 1551/1563\n",
            "Processing batch 1552/1563\n",
            "Processing batch 1553/1563\n",
            "Processing batch 1554/1563\n",
            "Processing batch 1555/1563\n",
            "Processing batch 1556/1563\n",
            "Processing batch 1557/1563\n",
            "Processing batch 1558/1563\n",
            "Processing batch 1559/1563\n",
            "Processing batch 1560/1563\n",
            "Processing batch 1561/1563\n",
            "Processing batch 1562/1563\n",
            "Processing batch 1563/1563\n"
          ]
        }
      ],
      "source": [
        "# Define the batch size so that it fits on your GPU. You can also do the processing on the CPU, but it will be slower.\n",
        "batch_size = 16\n",
        "\n",
        "# Path where the feature vectors will be stored\n",
        "features_path = Path(\"./Unsplash\") / \"features\"\n",
        "\n",
        "# Compute how many batches are needed\n",
        "batches = math.ceil(len(photos_files) / batch_size)\n",
        "\n",
        "# Process each batch\n",
        "for i in range(batches):\n",
        "    print(f\"Processing batch {i+1}/{batches}\")\n",
        "\n",
        "    batch_ids_path = features_path / f\"{i:010d}.csv\"\n",
        "    batch_features_path = features_path / f\"{i:010d}.npy\"\n",
        "    \n",
        "    # Only do the processing if the batch wasn't processed yet\n",
        "    if not batch_features_path.exists():\n",
        "        try:\n",
        "            # Select the photos for the current batch\n",
        "            batch_files = photos_files[i*batch_size : (i+1)*batch_size]\n",
        "\n",
        "            # Compute the features and save to a numpy file\n",
        "            batch_features = compute_clip_features(batch_files)\n",
        "            np.save(batch_features_path, batch_features)\n",
        "\n",
        "            # Save the photo IDs to a CSV file\n",
        "            photo_ids = [photo_file.name.split(\".\")[0] for photo_file in batch_files]\n",
        "            photo_ids_data = pd.DataFrame(photo_ids, columns=['photo_id'])\n",
        "            photo_ids_data.to_csv(batch_ids_path, index=False)\n",
        "        except:\n",
        "            # Catch problems with the processing to make the process more robust\n",
        "            print(f'Problem with batch {i}')"
      ]
    },
    {
      "cell_type": "code",
      "execution_count": null,
      "id": "6a9882da",
      "metadata": {
        "execution": {
          "iopub.execute_input": "2022-07-23T11:38:27.928732Z",
          "iopub.status.busy": "2022-07-23T11:38:27.927792Z",
          "iopub.status.idle": "2022-07-23T11:38:30.251436Z",
          "shell.execute_reply": "2022-07-23T11:38:30.250480Z"
        },
        "id": "6a9882da",
        "papermill": {
          "duration": 2.433933,
          "end_time": "2022-07-23T11:38:30.254096",
          "exception": false,
          "start_time": "2022-07-23T11:38:27.820163",
          "status": "completed"
        },
        "tags": []
      },
      "outputs": [],
      "source": [
        "import numpy as np\n",
        "import pandas as pd\n",
        "\n",
        "# Load all numpy files\n",
        "features_list = [np.load(features_file) for features_file in sorted(features_path.glob(\"*.npy\"))]\n",
        "\n",
        "# Concatenate the features and store in a merged file\n",
        "features = np.concatenate(features_list)\n",
        "np.save(features_path / \"features.npy\", features)\n",
        "\n",
        "# Load all the photo IDs\n",
        "photo_ids = pd.concat([pd.read_csv(ids_file) for ids_file in sorted(features_path.glob(\"*.csv\"))])\n",
        "photo_ids.to_csv(features_path / \"photo_ids.csv\", index=False)"
      ]
    },
    {
      "cell_type": "code",
      "execution_count": null,
      "id": "08d92ea9",
      "metadata": {
        "execution": {
          "iopub.execute_input": "2022-07-23T11:38:30.512277Z",
          "iopub.status.busy": "2022-07-23T11:38:30.511950Z",
          "iopub.status.idle": "2022-07-23T11:38:30.550048Z",
          "shell.execute_reply": "2022-07-23T11:38:30.548996Z"
        },
        "id": "08d92ea9",
        "outputId": "f33ae4b5-34a0-47dc-b8c0-4d4118c6ed5e",
        "papermill": {
          "duration": 0.143652,
          "end_time": "2022-07-23T11:38:30.552156",
          "exception": false,
          "start_time": "2022-07-23T11:38:30.408504",
          "status": "completed"
        },
        "tags": []
      },
      "outputs": [
        {
          "name": "stdout",
          "output_type": "stream",
          "text": [
            "Photos loaded: 24996\n"
          ]
        }
      ],
      "source": [
        "photo_ids = pd.read_csv(\"./Unsplash/features/photo_ids.csv\")\n",
        "photo_ids = list(photo_ids['photo_id'])\n",
        "\n",
        "# Load the features vectors\n",
        "photo_features = np.load(\"./Unsplash/features/features.npy\")\n",
        "# Convert features to Tensors: Float32 on CPU and Float16 on GPU\n",
        "if device == \"cpu\":\n",
        "    photo_features = torch.from_numpy(photo_features).float().to(device)\n",
        "else:\n",
        "    photo_features = torch.from_numpy(photo_features).to(device)\n",
        "\n",
        "# Print some statistics\n",
        "print(f\"Photos loaded: {len(photo_ids)}\")\n"
      ]
    },
    {
      "cell_type": "code",
      "execution_count": null,
      "id": "2b503c2b",
      "metadata": {
        "execution": {
          "iopub.execute_input": "2022-07-23T11:38:30.768877Z",
          "iopub.status.busy": "2022-07-23T11:38:30.768330Z",
          "iopub.status.idle": "2022-07-23T11:38:30.775172Z",
          "shell.execute_reply": "2022-07-23T11:38:30.774177Z"
        },
        "id": "2b503c2b",
        "papermill": {
          "duration": 0.123786,
          "end_time": "2022-07-23T11:38:30.777548",
          "exception": false,
          "start_time": "2022-07-23T11:38:30.653762",
          "status": "completed"
        },
        "tags": []
      },
      "outputs": [],
      "source": [
        "def encode_search_query(search_query):\n",
        "        \n",
        "    # Encode and normalize the search query using CLIP\n",
        "    tokenizer = RobertaTokenizer.from_pretrained(CFG.text_tokenizer)\n",
        "    query_text = tokenizer([search_query])\n",
        "    batch = {\n",
        "        key: torch.tensor(values).to(CFG.device)\n",
        "        for key, values in query_text.items()\n",
        "        }\n",
        "    with torch.no_grad():\n",
        "        text_encoded = model.text_encoder( \n",
        "            input_ids=batch[\"input_ids\"], attention_mask=batch[\"attention_mask\"] )\n",
        "        text_encoded = model.text_projection(text_encoded)\n",
        "        text_encoded = F.normalize(text_encoded, p=2, dim=-1)\n",
        "\n",
        "    # Retrieve the feature vector\n",
        "    return text_encoded"
      ]
    },
    {
      "cell_type": "code",
      "execution_count": null,
      "id": "5f463c77",
      "metadata": {
        "execution": {
          "iopub.execute_input": "2022-07-23T11:38:30.985185Z",
          "iopub.status.busy": "2022-07-23T11:38:30.984889Z",
          "iopub.status.idle": "2022-07-23T11:38:30.990437Z",
          "shell.execute_reply": "2022-07-23T11:38:30.989422Z"
        },
        "id": "5f463c77",
        "papermill": {
          "duration": 0.111356,
          "end_time": "2022-07-23T11:38:30.992560",
          "exception": false,
          "start_time": "2022-07-23T11:38:30.881204",
          "status": "completed"
        },
        "tags": []
      },
      "outputs": [],
      "source": [
        "def find_best_matches(text_features, photo_features, photo_ids, results_count=3):\n",
        "  # Compute the similarity between the search query and each photo using the Cosine similarity\n",
        "  similarities = (photo_features @ text_features.T).squeeze(1)\n",
        "\n",
        "  # Sort the photos by their similarity score\n",
        "  best_photo_idx = (-similarities).argsort()\n",
        "\n",
        "  # Return the photo IDs of the best matches\n",
        "  return [photo_ids[i] for i in best_photo_idx[:results_count]]"
      ]
    },
    {
      "cell_type": "code",
      "execution_count": null,
      "id": "74366f13",
      "metadata": {
        "execution": {
          "iopub.execute_input": "2022-07-23T11:38:31.199541Z",
          "iopub.status.busy": "2022-07-23T11:38:31.198624Z",
          "iopub.status.idle": "2022-07-23T11:38:31.204749Z",
          "shell.execute_reply": "2022-07-23T11:38:31.203871Z"
        },
        "id": "74366f13",
        "papermill": {
          "duration": 0.112384,
          "end_time": "2022-07-23T11:38:31.206724",
          "exception": false,
          "start_time": "2022-07-23T11:38:31.094340",
          "status": "completed"
        },
        "tags": []
      },
      "outputs": [],
      "source": [
        "from IPython.display import Image\n",
        "from IPython.core.display import HTML\n",
        "\n",
        "def display_photo(photo_id):\n",
        "  # Get the URL of the photo resized to have a width of 320px\n",
        "  photo_image_url = f\"https://unsplash.com/photos/{photo_id}/download?w=320\"\n",
        "\n",
        "  # Display the photo\n",
        "  display(Image(url=photo_image_url))\n",
        "\n",
        "  # Display the attribution text\n",
        "  #display(HTML(f'Photo on <a target=\"_blank\" href=\"https://unsplash.com/photos/{photo_id}\">Unsplash</a> '))\n",
        "  print()"
      ]
    },
    {
      "cell_type": "code",
      "execution_count": null,
      "id": "9674699b",
      "metadata": {
        "execution": {
          "iopub.execute_input": "2022-07-23T11:38:31.414178Z",
          "iopub.status.busy": "2022-07-23T11:38:31.413861Z",
          "iopub.status.idle": "2022-07-23T11:38:31.419114Z",
          "shell.execute_reply": "2022-07-23T11:38:31.418146Z"
        },
        "id": "9674699b",
        "papermill": {
          "duration": 0.110901,
          "end_time": "2022-07-23T11:38:31.421096",
          "exception": false,
          "start_time": "2022-07-23T11:38:31.310195",
          "status": "completed"
        },
        "tags": []
      },
      "outputs": [],
      "source": [
        "def search_in_unsplash(search_query, photo_features, photo_ids, results_count=3):\n",
        "  # Encode the search query\n",
        "  text_features = encode_search_query(search_query)\n",
        "\n",
        "  # Find the best matches\n",
        "  best_photo_ids = find_best_matches(text_features, photo_features, photo_ids, results_count)\n",
        "\n",
        "  # Display the best photos\n",
        "  for photo_id in best_photo_ids:\n",
        "    display_photo(photo_id)\n"
      ]
    },
    {
      "cell_type": "code",
      "execution_count": null,
      "id": "5a34539f",
      "metadata": {
        "colab": {
          "referenced_widgets": [
            "0fc5a94f2adb49ac94ecb9955a63f9ca",
            "4f5f8d9ea79d446595b4be94a4cf6a94"
          ]
        },
        "execution": {
          "iopub.execute_input": "2022-07-23T11:38:31.626165Z",
          "iopub.status.busy": "2022-07-23T11:38:31.625880Z",
          "iopub.status.idle": "2022-07-23T11:38:32.809010Z",
          "shell.execute_reply": "2022-07-23T11:38:32.808024Z"
        },
        "id": "5a34539f",
        "outputId": "52dd6d67-4977-457c-c26c-eccc2987ab1f",
        "papermill": {
          "duration": 1.289143,
          "end_time": "2022-07-23T11:38:32.811824",
          "exception": false,
          "start_time": "2022-07-23T11:38:31.522681",
          "status": "completed"
        },
        "tags": []
      },
      "outputs": [
        {
          "data": {
            "application/vnd.jupyter.widget-view+json": {
              "model_id": "0fc5a94f2adb49ac94ecb9955a63f9ca",
              "version_major": 2,
              "version_minor": 0
            },
            "text/plain": [
              "Downloading:   0%|          | 0.00/878k [00:00<?, ?B/s]"
            ]
          },
          "metadata": {},
          "output_type": "display_data"
        },
        {
          "data": {
            "application/vnd.jupyter.widget-view+json": {
              "model_id": "4f5f8d9ea79d446595b4be94a4cf6a94",
              "version_major": 2,
              "version_minor": 0
            },
            "text/plain": [
              "Downloading:   0%|          | 0.00/446k [00:00<?, ?B/s]"
            ]
          },
          "metadata": {},
          "output_type": "display_data"
        },
        {
          "data": {
            "text/html": [
              "<img src=\"https://unsplash.com/photos/lyStEjlKNSw/download?w=320\"/>"
            ],
            "text/plain": [
              "<IPython.core.display.Image object>"
            ]
          },
          "metadata": {},
          "output_type": "display_data"
        },
        {
          "name": "stdout",
          "output_type": "stream",
          "text": [
            "\n"
          ]
        },
        {
          "data": {
            "text/html": [
              "<img src=\"https://unsplash.com/photos/FAcSe7SjDUU/download?w=320\"/>"
            ],
            "text/plain": [
              "<IPython.core.display.Image object>"
            ]
          },
          "metadata": {},
          "output_type": "display_data"
        },
        {
          "name": "stdout",
          "output_type": "stream",
          "text": [
            "\n"
          ]
        }
      ],
      "source": [
        "search_query = \"Two dogs playing in the snow\"\n",
        "\n",
        "search_in_unsplash(search_query, photo_features, photo_ids, 2)"
      ]
    },
    {
      "cell_type": "code",
      "execution_count": null,
      "id": "be51c9bb",
      "metadata": {
        "execution": {
          "iopub.execute_input": "2022-07-23T11:38:33.025760Z",
          "iopub.status.busy": "2022-07-23T11:38:33.025425Z",
          "iopub.status.idle": "2022-07-23T11:38:33.714755Z",
          "shell.execute_reply": "2022-07-23T11:38:33.713637Z"
        },
        "id": "be51c9bb",
        "outputId": "9bd1f99f-35da-4fbd-f730-d16e0f693637",
        "papermill": {
          "duration": 0.799778,
          "end_time": "2022-07-23T11:38:33.717844",
          "exception": false,
          "start_time": "2022-07-23T11:38:32.918066",
          "status": "completed"
        },
        "tags": []
      },
      "outputs": [
        {
          "data": {
            "text/html": [
              "<img src=\"https://unsplash.com/photos/cJdDtt96et8/download?w=320\"/>"
            ],
            "text/plain": [
              "<IPython.core.display.Image object>"
            ]
          },
          "metadata": {},
          "output_type": "display_data"
        },
        {
          "name": "stdout",
          "output_type": "stream",
          "text": [
            "\n"
          ]
        },
        {
          "data": {
            "text/html": [
              "<img src=\"https://unsplash.com/photos/RKiMg1bwsMY/download?w=320\"/>"
            ],
            "text/plain": [
              "<IPython.core.display.Image object>"
            ]
          },
          "metadata": {},
          "output_type": "display_data"
        },
        {
          "name": "stdout",
          "output_type": "stream",
          "text": [
            "\n"
          ]
        }
      ],
      "source": [
        "search_query = \"a man surfing on a blue green wave\"\n",
        "\n",
        "search_in_unsplash(search_query, photo_features, photo_ids, 2)"
      ]
    },
    {
      "cell_type": "code",
      "execution_count": null,
      "id": "59e21165",
      "metadata": {
        "execution": {
          "iopub.execute_input": "2022-07-23T11:38:33.927029Z",
          "iopub.status.busy": "2022-07-23T11:38:33.926725Z",
          "iopub.status.idle": "2022-07-23T11:38:34.596593Z",
          "shell.execute_reply": "2022-07-23T11:38:34.595586Z"
        },
        "id": "59e21165",
        "outputId": "5637eeae-e57a-4841-fd3a-e297c93c36da",
        "papermill": {
          "duration": 0.777223,
          "end_time": "2022-07-23T11:38:34.598528",
          "exception": false,
          "start_time": "2022-07-23T11:38:33.821305",
          "status": "completed"
        },
        "tags": []
      },
      "outputs": [
        {
          "data": {
            "text/html": [
              "<img src=\"https://unsplash.com/photos/ak6MWTky7Cs/download?w=320\"/>"
            ],
            "text/plain": [
              "<IPython.core.display.Image object>"
            ]
          },
          "metadata": {},
          "output_type": "display_data"
        },
        {
          "name": "stdout",
          "output_type": "stream",
          "text": [
            "\n"
          ]
        },
        {
          "data": {
            "text/html": [
              "<img src=\"https://unsplash.com/photos/uL6_TP4HOQI/download?w=320\"/>"
            ],
            "text/plain": [
              "<IPython.core.display.Image object>"
            ]
          },
          "metadata": {},
          "output_type": "display_data"
        },
        {
          "name": "stdout",
          "output_type": "stream",
          "text": [
            "\n"
          ]
        }
      ],
      "source": [
        "search_query = \"Groups of people enjoying walking on a road in the forest\"\n",
        "\n",
        "search_in_unsplash(search_query, photo_features, photo_ids, 2)"
      ]
    },
    {
      "cell_type": "code",
      "execution_count": null,
      "id": "c512260b",
      "metadata": {
        "execution": {
          "iopub.execute_input": "2022-07-23T11:38:34.817043Z",
          "iopub.status.busy": "2022-07-23T11:38:34.815992Z",
          "iopub.status.idle": "2022-07-23T11:38:35.507888Z",
          "shell.execute_reply": "2022-07-23T11:38:35.506892Z"
        },
        "id": "c512260b",
        "outputId": "fcc0c1d1-76d6-4bca-acd9-88cd19345339",
        "papermill": {
          "duration": 0.806254,
          "end_time": "2022-07-23T11:38:35.509938",
          "exception": false,
          "start_time": "2022-07-23T11:38:34.703684",
          "status": "completed"
        },
        "tags": []
      },
      "outputs": [
        {
          "data": {
            "text/html": [
              "<img src=\"https://unsplash.com/photos/ofgYwK8j_cQ/download?w=320\"/>"
            ],
            "text/plain": [
              "<IPython.core.display.Image object>"
            ]
          },
          "metadata": {},
          "output_type": "display_data"
        },
        {
          "name": "stdout",
          "output_type": "stream",
          "text": [
            "\n"
          ]
        },
        {
          "data": {
            "text/html": [
              "<img src=\"https://unsplash.com/photos/j8vAzje0O64/download?w=320\"/>"
            ],
            "text/plain": [
              "<IPython.core.display.Image object>"
            ]
          },
          "metadata": {},
          "output_type": "display_data"
        },
        {
          "name": "stdout",
          "output_type": "stream",
          "text": [
            "\n"
          ]
        }
      ],
      "source": [
        "search_query = \"Friends taking a boat ride\"\n",
        "search_in_unsplash(search_query, photo_features, photo_ids, 2)"
      ]
    },
    {
      "cell_type": "code",
      "execution_count": null,
      "id": "862a2504",
      "metadata": {
        "execution": {
          "iopub.execute_input": "2022-07-23T11:38:35.828492Z",
          "iopub.status.busy": "2022-07-23T11:38:35.827905Z",
          "iopub.status.idle": "2022-07-23T11:38:36.579744Z",
          "shell.execute_reply": "2022-07-23T11:38:36.578777Z"
        },
        "id": "862a2504",
        "outputId": "6ff93ffb-4f7d-47db-e327-e3279b0d7b04",
        "papermill": {
          "duration": 0.945143,
          "end_time": "2022-07-23T11:38:36.589349",
          "exception": false,
          "start_time": "2022-07-23T11:38:35.644206",
          "status": "completed"
        },
        "tags": []
      },
      "outputs": [
        {
          "data": {
            "text/html": [
              "<img src=\"https://unsplash.com/photos/emI7VUcvLi0/download?w=320\"/>"
            ],
            "text/plain": [
              "<IPython.core.display.Image object>"
            ]
          },
          "metadata": {},
          "output_type": "display_data"
        },
        {
          "name": "stdout",
          "output_type": "stream",
          "text": [
            "\n"
          ]
        },
        {
          "data": {
            "text/html": [
              "<img src=\"https://unsplash.com/photos/-nvKrf2JWkM/download?w=320\"/>"
            ],
            "text/plain": [
              "<IPython.core.display.Image object>"
            ]
          },
          "metadata": {},
          "output_type": "display_data"
        },
        {
          "name": "stdout",
          "output_type": "stream",
          "text": [
            "\n"
          ]
        }
      ],
      "source": [
        "search_query = \"A group of kittens sleeping next to each other\"\n",
        "search_in_unsplash(search_query, photo_features, photo_ids, 2)"
      ]
    },
    {
      "cell_type": "code",
      "execution_count": null,
      "id": "c07fe4ef",
      "metadata": {
        "execution": {
          "iopub.execute_input": "2022-07-23T11:38:36.813919Z",
          "iopub.status.busy": "2022-07-23T11:38:36.813607Z",
          "iopub.status.idle": "2022-07-23T11:38:37.493764Z",
          "shell.execute_reply": "2022-07-23T11:38:37.492736Z"
        },
        "id": "c07fe4ef",
        "outputId": "80de32aa-ea97-425f-c7e8-145fab91c384",
        "papermill": {
          "duration": 0.788089,
          "end_time": "2022-07-23T11:38:37.496750",
          "exception": false,
          "start_time": "2022-07-23T11:38:36.708661",
          "status": "completed"
        },
        "tags": []
      },
      "outputs": [
        {
          "data": {
            "text/html": [
              "<img src=\"https://unsplash.com/photos/fX1_vECihxU/download?w=320\"/>"
            ],
            "text/plain": [
              "<IPython.core.display.Image object>"
            ]
          },
          "metadata": {},
          "output_type": "display_data"
        },
        {
          "name": "stdout",
          "output_type": "stream",
          "text": [
            "\n"
          ]
        },
        {
          "data": {
            "text/html": [
              "<img src=\"https://unsplash.com/photos/QRzQlECEbsk/download?w=320\"/>"
            ],
            "text/plain": [
              "<IPython.core.display.Image object>"
            ]
          },
          "metadata": {},
          "output_type": "display_data"
        },
        {
          "name": "stdout",
          "output_type": "stream",
          "text": [
            "\n"
          ]
        }
      ],
      "source": [
        "search_query = \"Two people walking on desert sands at sunset\"\n",
        "search_in_unsplash(search_query, photo_features, photo_ids, 2)"
      ]
    },
    {
      "cell_type": "code",
      "execution_count": null,
      "id": "860a990e",
      "metadata": {
        "execution": {
          "iopub.execute_input": "2022-07-23T11:38:37.708979Z",
          "iopub.status.busy": "2022-07-23T11:38:37.708617Z",
          "iopub.status.idle": "2022-07-23T11:38:38.398048Z",
          "shell.execute_reply": "2022-07-23T11:38:38.396900Z"
        },
        "id": "860a990e",
        "outputId": "3ee0c207-bcb7-4301-ec66-7b72b41dfe33",
        "papermill": {
          "duration": 0.797252,
          "end_time": "2022-07-23T11:38:38.400174",
          "exception": false,
          "start_time": "2022-07-23T11:38:37.602922",
          "status": "completed"
        },
        "tags": []
      },
      "outputs": [
        {
          "data": {
            "text/html": [
              "<img src=\"https://unsplash.com/photos/FBdydDUDXHI/download?w=320\"/>"
            ],
            "text/plain": [
              "<IPython.core.display.Image object>"
            ]
          },
          "metadata": {},
          "output_type": "display_data"
        },
        {
          "name": "stdout",
          "output_type": "stream",
          "text": [
            "\n"
          ]
        },
        {
          "data": {
            "text/html": [
              "<img src=\"https://unsplash.com/photos/6fV6MDOJB3w/download?w=320\"/>"
            ],
            "text/plain": [
              "<IPython.core.display.Image object>"
            ]
          },
          "metadata": {},
          "output_type": "display_data"
        },
        {
          "name": "stdout",
          "output_type": "stream",
          "text": [
            "\n"
          ]
        }
      ],
      "source": [
        "search_query = \"Two friends standing in front of each other in the woods\"\n",
        "search_in_unsplash(search_query, photo_features, photo_ids, 2)"
      ]
    },
    {
      "cell_type": "code",
      "execution_count": null,
      "id": "d1ed7492",
      "metadata": {
        "execution": {
          "iopub.execute_input": "2022-07-23T11:38:38.612621Z",
          "iopub.status.busy": "2022-07-23T11:38:38.612300Z",
          "iopub.status.idle": "2022-07-23T11:38:39.298709Z",
          "shell.execute_reply": "2022-07-23T11:38:39.297698Z"
        },
        "id": "d1ed7492",
        "outputId": "2b9cdd66-3f9c-4298-b23a-348df0b0ec00",
        "papermill": {
          "duration": 0.794967,
          "end_time": "2022-07-23T11:38:39.301481",
          "exception": false,
          "start_time": "2022-07-23T11:38:38.506514",
          "status": "completed"
        },
        "tags": []
      },
      "outputs": [
        {
          "data": {
            "text/html": [
              "<img src=\"https://unsplash.com/photos/3xUnaShh5SQ/download?w=320\"/>"
            ],
            "text/plain": [
              "<IPython.core.display.Image object>"
            ]
          },
          "metadata": {},
          "output_type": "display_data"
        },
        {
          "name": "stdout",
          "output_type": "stream",
          "text": [
            "\n"
          ]
        },
        {
          "data": {
            "text/html": [
              "<img src=\"https://unsplash.com/photos/df-BFy8gah0/download?w=320\"/>"
            ],
            "text/plain": [
              "<IPython.core.display.Image object>"
            ]
          },
          "metadata": {},
          "output_type": "display_data"
        },
        {
          "name": "stdout",
          "output_type": "stream",
          "text": [
            "\n"
          ]
        }
      ],
      "source": [
        "search_query = \"Two friends sitting next to each other on the beach\"\n",
        "search_in_unsplash(search_query, photo_features, photo_ids, 2)"
      ]
    },
    {
      "cell_type": "code",
      "execution_count": null,
      "id": "3c69b35e",
      "metadata": {
        "execution": {
          "iopub.execute_input": "2022-07-23T11:38:39.514047Z",
          "iopub.status.busy": "2022-07-23T11:38:39.513747Z",
          "iopub.status.idle": "2022-07-23T11:38:40.203311Z",
          "shell.execute_reply": "2022-07-23T11:38:40.202337Z"
        },
        "id": "3c69b35e",
        "outputId": "2c13dbc2-4320-4145-eb6b-c1ab71b468b6",
        "papermill": {
          "duration": 0.798498,
          "end_time": "2022-07-23T11:38:40.206195",
          "exception": false,
          "start_time": "2022-07-23T11:38:39.407697",
          "status": "completed"
        },
        "tags": []
      },
      "outputs": [
        {
          "data": {
            "text/html": [
              "<img src=\"https://unsplash.com/photos/k-2Z5ovVHW0/download?w=320\"/>"
            ],
            "text/plain": [
              "<IPython.core.display.Image object>"
            ]
          },
          "metadata": {},
          "output_type": "display_data"
        },
        {
          "name": "stdout",
          "output_type": "stream",
          "text": [
            "\n"
          ]
        },
        {
          "data": {
            "text/html": [
              "<img src=\"https://unsplash.com/photos/iK0QtlJgj30/download?w=320\"/>"
            ],
            "text/plain": [
              "<IPython.core.display.Image object>"
            ]
          },
          "metadata": {},
          "output_type": "display_data"
        },
        {
          "name": "stdout",
          "output_type": "stream",
          "text": [
            "\n"
          ]
        }
      ],
      "source": [
        "search_query = \"A person standing on top of a high mountain\"\n",
        "search_in_unsplash(search_query, photo_features, photo_ids, 2)"
      ]
    },
    {
      "cell_type": "code",
      "execution_count": null,
      "id": "df7fc87b",
      "metadata": {
        "execution": {
          "iopub.execute_input": "2022-07-23T11:38:40.460933Z",
          "iopub.status.busy": "2022-07-23T11:38:40.460017Z",
          "iopub.status.idle": "2022-07-23T11:38:41.143094Z",
          "shell.execute_reply": "2022-07-23T11:38:41.142143Z"
        },
        "id": "df7fc87b",
        "outputId": "46063fba-3f89-4dce-9f59-cb27fe5bb899",
        "papermill": {
          "duration": 0.830773,
          "end_time": "2022-07-23T11:38:41.145106",
          "exception": false,
          "start_time": "2022-07-23T11:38:40.314333",
          "status": "completed"
        },
        "tags": []
      },
      "outputs": [
        {
          "data": {
            "text/html": [
              "<img src=\"https://unsplash.com/photos/knFk8gnq-Mw/download?w=320\"/>"
            ],
            "text/plain": [
              "<IPython.core.display.Image object>"
            ]
          },
          "metadata": {},
          "output_type": "display_data"
        },
        {
          "name": "stdout",
          "output_type": "stream",
          "text": [
            "\n"
          ]
        },
        {
          "data": {
            "text/html": [
              "<img src=\"https://unsplash.com/photos/QrCKLbO1V1Q/download?w=320\"/>"
            ],
            "text/plain": [
              "<IPython.core.display.Image object>"
            ]
          },
          "metadata": {},
          "output_type": "display_data"
        },
        {
          "name": "stdout",
          "output_type": "stream",
          "text": [
            "\n"
          ]
        }
      ],
      "source": [
        "search_query = \"A person standing at the top of a high mountain covered in snow\"\n",
        "search_in_unsplash(search_query, photo_features, photo_ids, 2)"
      ]
    },
    {
      "cell_type": "markdown",
      "id": "4782c957",
      "metadata": {
        "id": "4782c957",
        "papermill": {
          "duration": 0.105862,
          "end_time": "2022-07-23T11:38:41.358692",
          "exception": false,
          "start_time": "2022-07-23T11:38:41.252830",
          "status": "completed"
        },
        "tags": []
      },
      "source": [
        "**Combine Text and Photo Seach Queries****"
      ]
    },
    {
      "cell_type": "code",
      "execution_count": null,
      "id": "fed5aede",
      "metadata": {
        "execution": {
          "iopub.execute_input": "2022-07-23T11:38:41.572029Z",
          "iopub.status.busy": "2022-07-23T11:38:41.571074Z",
          "iopub.status.idle": "2022-07-23T11:38:41.578581Z",
          "shell.execute_reply": "2022-07-23T11:38:41.577696Z"
        },
        "id": "fed5aede",
        "papermill": {
          "duration": 0.116435,
          "end_time": "2022-07-23T11:38:41.580551",
          "exception": false,
          "start_time": "2022-07-23T11:38:41.464116",
          "status": "completed"
        },
        "tags": []
      },
      "outputs": [],
      "source": [
        "def search_by_text_and_photo_in_unsplash(query_text, query_photo_id, photo_weight=0.5):\n",
        "    # Encode the search query\n",
        "    text_features = encode_search_query(query_text)\n",
        "\n",
        "    # Find the feature vector for the specified photo ID\n",
        "    query_photo_index = photo_ids.index(query_photo_id)\n",
        "    query_photo_features = photo_features[query_photo_index]\n",
        "\n",
        "    # Combine the test and photo queries and normalize again\n",
        "    search_features = text_features + query_photo_features * photo_weight\n",
        "    search_features /= search_features.norm(dim=-1, keepdim=True)\n",
        "\n",
        "    # Find the best match\n",
        "    best_photo_ids = find_best_matches(search_features, photo_features, photo_ids, 1)\n",
        "\n",
        "    # Display the results\n",
        "    #print(\"Test search result\")\n",
        "    #search_in_unsplash(query_text, photo_features, photo_ids, 1)\n",
        "    print(\"Text query is\",query_text)\n",
        "    print(\"Photo query\")\n",
        "    display(Image(url=f\"https://unsplash.com/photos/{query_photo_id}/download?w=320\"))\n",
        "\n",
        "    print(\"Result for text query + photo query\")\n",
        "    display_photo(best_photo_ids[0])"
      ]
    },
    {
      "cell_type": "code",
      "execution_count": null,
      "id": "46b0d450",
      "metadata": {
        "execution": {
          "iopub.execute_input": "2022-07-23T11:38:41.796822Z",
          "iopub.status.busy": "2022-07-23T11:38:41.795349Z",
          "iopub.status.idle": "2022-07-23T11:38:42.472783Z",
          "shell.execute_reply": "2022-07-23T11:38:42.471666Z"
        },
        "id": "46b0d450",
        "outputId": "bb699a2a-786b-4de3-9aa8-906f615c5e69",
        "papermill": {
          "duration": 0.789144,
          "end_time": "2022-07-23T11:38:42.475614",
          "exception": false,
          "start_time": "2022-07-23T11:38:41.686470",
          "status": "completed"
        },
        "tags": []
      },
      "outputs": [
        {
          "name": "stdout",
          "output_type": "stream",
          "text": [
            "Text query is In winter\n",
            "Photo query\n"
          ]
        },
        {
          "data": {
            "text/html": [
              "<img src=\"https://unsplash.com/photos/BeD3vjQ8SI0/download?w=320\"/>"
            ],
            "text/plain": [
              "<IPython.core.display.Image object>"
            ]
          },
          "metadata": {},
          "output_type": "display_data"
        },
        {
          "name": "stdout",
          "output_type": "stream",
          "text": [
            "Result for text query + photo query\n"
          ]
        },
        {
          "data": {
            "text/html": [
              "<img src=\"https://unsplash.com/photos/JcYQ67_TCmY/download?w=320\"/>"
            ],
            "text/plain": [
              "<IPython.core.display.Image object>"
            ]
          },
          "metadata": {},
          "output_type": "display_data"
        },
        {
          "name": "stdout",
          "output_type": "stream",
          "text": [
            "\n"
          ]
        }
      ],
      "source": [
        "search_by_text_and_photo_in_unsplash(\"In winter\", \"BeD3vjQ8SI0\")"
      ]
    },
    {
      "cell_type": "code",
      "execution_count": null,
      "id": "faf81d27",
      "metadata": {
        "execution": {
          "iopub.execute_input": "2022-07-23T11:38:42.691648Z",
          "iopub.status.busy": "2022-07-23T11:38:42.690973Z",
          "iopub.status.idle": "2022-07-23T11:38:43.378928Z",
          "shell.execute_reply": "2022-07-23T11:38:43.377904Z"
        },
        "id": "faf81d27",
        "outputId": "9e28a651-247f-486e-a276-fcf8821df52f",
        "papermill": {
          "duration": 0.79869,
          "end_time": "2022-07-23T11:38:43.382104",
          "exception": false,
          "start_time": "2022-07-23T11:38:42.583414",
          "status": "completed"
        },
        "tags": []
      },
      "outputs": [
        {
          "name": "stdout",
          "output_type": "stream",
          "text": [
            "Text query is In winter\n",
            "Photo query\n"
          ]
        },
        {
          "data": {
            "text/html": [
              "<img src=\"https://unsplash.com/photos/ocwmWiNAWGs/download?w=320\"/>"
            ],
            "text/plain": [
              "<IPython.core.display.Image object>"
            ]
          },
          "metadata": {},
          "output_type": "display_data"
        },
        {
          "name": "stdout",
          "output_type": "stream",
          "text": [
            "Result for text query + photo query\n"
          ]
        },
        {
          "data": {
            "text/html": [
              "<img src=\"https://unsplash.com/photos/QJSWD8bkn0w/download?w=320\"/>"
            ],
            "text/plain": [
              "<IPython.core.display.Image object>"
            ]
          },
          "metadata": {},
          "output_type": "display_data"
        },
        {
          "name": "stdout",
          "output_type": "stream",
          "text": [
            "\n"
          ]
        }
      ],
      "source": [
        "search_by_text_and_photo_in_unsplash(\"In winter\", \"ocwmWiNAWGs\")"
      ]
    },
    {
      "cell_type": "code",
      "execution_count": null,
      "id": "0aff0bda",
      "metadata": {
        "execution": {
          "iopub.execute_input": "2022-07-23T11:38:43.598654Z",
          "iopub.status.busy": "2022-07-23T11:38:43.598324Z",
          "iopub.status.idle": "2022-07-23T11:38:44.276298Z",
          "shell.execute_reply": "2022-07-23T11:38:44.275348Z"
        },
        "id": "0aff0bda",
        "outputId": "12c0a276-7186-4414-ccbd-7cd11905d2b8",
        "papermill": {
          "duration": 0.788687,
          "end_time": "2022-07-23T11:38:44.278591",
          "exception": false,
          "start_time": "2022-07-23T11:38:43.489904",
          "status": "completed"
        },
        "tags": []
      },
      "outputs": [
        {
          "name": "stdout",
          "output_type": "stream",
          "text": [
            "Text query is Early in the morning\n",
            "Photo query\n"
          ]
        },
        {
          "data": {
            "text/html": [
              "<img src=\"https://unsplash.com/photos/WKt6okFYtg4/download?w=320\"/>"
            ],
            "text/plain": [
              "<IPython.core.display.Image object>"
            ]
          },
          "metadata": {},
          "output_type": "display_data"
        },
        {
          "name": "stdout",
          "output_type": "stream",
          "text": [
            "Result for text query + photo query\n"
          ]
        },
        {
          "data": {
            "text/html": [
              "<img src=\"https://unsplash.com/photos/rN8PJXQNy4w/download?w=320\"/>"
            ],
            "text/plain": [
              "<IPython.core.display.Image object>"
            ]
          },
          "metadata": {},
          "output_type": "display_data"
        },
        {
          "name": "stdout",
          "output_type": "stream",
          "text": [
            "\n"
          ]
        }
      ],
      "source": [
        "search_by_text_and_photo_in_unsplash(\"Early in the morning\", \"WKt6okFYtg4\")"
      ]
    },
    {
      "cell_type": "code",
      "execution_count": null,
      "id": "fde86787",
      "metadata": {
        "execution": {
          "iopub.execute_input": "2022-07-23T11:38:44.498196Z",
          "iopub.status.busy": "2022-07-23T11:38:44.496468Z",
          "iopub.status.idle": "2022-07-23T11:38:45.179901Z",
          "shell.execute_reply": "2022-07-23T11:38:45.178839Z"
        },
        "id": "fde86787",
        "outputId": "5ec5576b-03c2-4e34-9c35-829381bee08e",
        "papermill": {
          "duration": 0.795921,
          "end_time": "2022-07-23T11:38:45.182990",
          "exception": false,
          "start_time": "2022-07-23T11:38:44.387069",
          "status": "completed"
        },
        "tags": []
      },
      "outputs": [
        {
          "name": "stdout",
          "output_type": "stream",
          "text": [
            "Text query is Many of them at night\n",
            "Photo query\n"
          ]
        },
        {
          "data": {
            "text/html": [
              "<img src=\"https://unsplash.com/photos/WKt6okFYtg4/download?w=320\"/>"
            ],
            "text/plain": [
              "<IPython.core.display.Image object>"
            ]
          },
          "metadata": {},
          "output_type": "display_data"
        },
        {
          "name": "stdout",
          "output_type": "stream",
          "text": [
            "Result for text query + photo query\n"
          ]
        },
        {
          "data": {
            "text/html": [
              "<img src=\"https://unsplash.com/photos/k7UyfYvOtbg/download?w=320\"/>"
            ],
            "text/plain": [
              "<IPython.core.display.Image object>"
            ]
          },
          "metadata": {},
          "output_type": "display_data"
        },
        {
          "name": "stdout",
          "output_type": "stream",
          "text": [
            "\n"
          ]
        }
      ],
      "source": [
        "search_by_text_and_photo_in_unsplash(\"Many of them at night\", \"WKt6okFYtg4\")"
      ]
    },
    {
      "cell_type": "code",
      "execution_count": null,
      "id": "9ff55072",
      "metadata": {
        "execution": {
          "iopub.execute_input": "2022-07-23T11:38:45.398642Z",
          "iopub.status.busy": "2022-07-23T11:38:45.398312Z",
          "iopub.status.idle": "2022-07-23T11:38:46.092706Z",
          "shell.execute_reply": "2022-07-23T11:38:46.091741Z"
        },
        "id": "9ff55072",
        "outputId": "ab41f77e-ecf4-43de-9773-bb90e6f49a89",
        "papermill": {
          "duration": 0.803626,
          "end_time": "2022-07-23T11:38:46.094875",
          "exception": false,
          "start_time": "2022-07-23T11:38:45.291249",
          "status": "completed"
        },
        "tags": []
      },
      "outputs": [
        {
          "name": "stdout",
          "output_type": "stream",
          "text": [
            "Text query is luminous at night\n",
            "Photo query\n"
          ]
        },
        {
          "data": {
            "text/html": [
              "<img src=\"https://unsplash.com/photos/WKt6okFYtg4/download?w=320\"/>"
            ],
            "text/plain": [
              "<IPython.core.display.Image object>"
            ]
          },
          "metadata": {},
          "output_type": "display_data"
        },
        {
          "name": "stdout",
          "output_type": "stream",
          "text": [
            "Result for text query + photo query\n"
          ]
        },
        {
          "data": {
            "text/html": [
              "<img src=\"https://unsplash.com/photos/oWPVLg-JcJE/download?w=320\"/>"
            ],
            "text/plain": [
              "<IPython.core.display.Image object>"
            ]
          },
          "metadata": {},
          "output_type": "display_data"
        },
        {
          "name": "stdout",
          "output_type": "stream",
          "text": [
            "\n"
          ]
        }
      ],
      "source": [
        "search_by_text_and_photo_in_unsplash(\"luminous at night\", \"WKt6okFYtg4\")"
      ]
    },
    {
      "cell_type": "code",
      "execution_count": null,
      "id": "4bada065",
      "metadata": {
        "execution": {
          "iopub.execute_input": "2022-07-23T11:38:46.314623Z",
          "iopub.status.busy": "2022-07-23T11:38:46.314273Z",
          "iopub.status.idle": "2022-07-23T11:38:47.075683Z",
          "shell.execute_reply": "2022-07-23T11:38:47.074640Z"
        },
        "id": "4bada065",
        "outputId": "65ee14bf-ddb2-461e-cf4e-69ccd2a56003",
        "papermill": {
          "duration": 0.872915,
          "end_time": "2022-07-23T11:38:47.078891",
          "exception": false,
          "start_time": "2022-07-23T11:38:46.205976",
          "status": "completed"
        },
        "tags": []
      },
      "outputs": [
        {
          "name": "stdout",
          "output_type": "stream",
          "text": [
            "Text query is A long way\n",
            "Photo query\n"
          ]
        },
        {
          "data": {
            "text/html": [
              "<img src=\"https://unsplash.com/photos/9HDfRHhCxME/download?w=320\"/>"
            ],
            "text/plain": [
              "<IPython.core.display.Image object>"
            ]
          },
          "metadata": {},
          "output_type": "display_data"
        },
        {
          "name": "stdout",
          "output_type": "stream",
          "text": [
            "Result for text query + photo query\n"
          ]
        },
        {
          "data": {
            "text/html": [
              "<img src=\"https://unsplash.com/photos/SCujUdK6fnk/download?w=320\"/>"
            ],
            "text/plain": [
              "<IPython.core.display.Image object>"
            ]
          },
          "metadata": {},
          "output_type": "display_data"
        },
        {
          "name": "stdout",
          "output_type": "stream",
          "text": [
            "\n"
          ]
        }
      ],
      "source": [
        "search_by_text_and_photo_in_unsplash(\"A long way\", \"9HDfRHhCxME\")"
      ]
    },
    {
      "cell_type": "code",
      "execution_count": null,
      "id": "80a7fa7e",
      "metadata": {
        "execution": {
          "iopub.execute_input": "2022-07-23T11:38:47.297341Z",
          "iopub.status.busy": "2022-07-23T11:38:47.296473Z",
          "iopub.status.idle": "2022-07-23T11:38:47.988865Z",
          "shell.execute_reply": "2022-07-23T11:38:47.987809Z"
        },
        "id": "80a7fa7e",
        "outputId": "0f5727e0-a494-497d-c1a6-4815bb0d84b5",
        "papermill": {
          "duration": 0.803811,
          "end_time": "2022-07-23T11:38:47.992371",
          "exception": false,
          "start_time": "2022-07-23T11:38:47.188560",
          "status": "completed"
        },
        "tags": []
      },
      "outputs": [
        {
          "name": "stdout",
          "output_type": "stream",
          "text": [
            "Text query is blue\n",
            "Photo query\n"
          ]
        },
        {
          "data": {
            "text/html": [
              "<img src=\"https://unsplash.com/photos/ZVcdVxjACGI/download?w=320\"/>"
            ],
            "text/plain": [
              "<IPython.core.display.Image object>"
            ]
          },
          "metadata": {},
          "output_type": "display_data"
        },
        {
          "name": "stdout",
          "output_type": "stream",
          "text": [
            "Result for text query + photo query\n"
          ]
        },
        {
          "data": {
            "text/html": [
              "<img src=\"https://unsplash.com/photos/qVjIBN1P-co/download?w=320\"/>"
            ],
            "text/plain": [
              "<IPython.core.display.Image object>"
            ]
          },
          "metadata": {},
          "output_type": "display_data"
        },
        {
          "name": "stdout",
          "output_type": "stream",
          "text": [
            "\n"
          ]
        }
      ],
      "source": [
        "search_by_text_and_photo_in_unsplash(\"blue\", \"ZVcdVxjACGI\")"
      ]
    },
    {
      "cell_type": "code",
      "execution_count": null,
      "id": "b19a32c7",
      "metadata": {
        "execution": {
          "iopub.execute_input": "2022-07-23T11:38:48.211878Z",
          "iopub.status.busy": "2022-07-23T11:38:48.211547Z",
          "iopub.status.idle": "2022-07-23T11:38:48.892704Z",
          "shell.execute_reply": "2022-07-23T11:38:48.891614Z"
        },
        "id": "b19a32c7",
        "outputId": "262cc026-2373-40a4-99ee-0b6f0bc47e79",
        "papermill": {
          "duration": 0.794241,
          "end_time": "2022-07-23T11:38:48.896084",
          "exception": false,
          "start_time": "2022-07-23T11:38:48.101843",
          "status": "completed"
        },
        "tags": []
      },
      "outputs": [
        {
          "name": "stdout",
          "output_type": "stream",
          "text": [
            "Text query is savage\n",
            "Photo query\n"
          ]
        },
        {
          "data": {
            "text/html": [
              "<img src=\"https://unsplash.com/photos/8Ja70K5VvoI/download?w=320\"/>"
            ],
            "text/plain": [
              "<IPython.core.display.Image object>"
            ]
          },
          "metadata": {},
          "output_type": "display_data"
        },
        {
          "name": "stdout",
          "output_type": "stream",
          "text": [
            "Result for text query + photo query\n"
          ]
        },
        {
          "data": {
            "text/html": [
              "<img src=\"https://unsplash.com/photos/r9sLRg59YyM/download?w=320\"/>"
            ],
            "text/plain": [
              "<IPython.core.display.Image object>"
            ]
          },
          "metadata": {},
          "output_type": "display_data"
        },
        {
          "name": "stdout",
          "output_type": "stream",
          "text": [
            "\n"
          ]
        }
      ],
      "source": [
        "search_by_text_and_photo_in_unsplash(\"savage\", \"8Ja70K5VvoI\")"
      ]
    },
    {
      "cell_type": "code",
      "execution_count": null,
      "id": "b21cd4c1",
      "metadata": {
        "execution": {
          "iopub.execute_input": "2022-07-23T11:38:49.119358Z",
          "iopub.status.busy": "2022-07-23T11:38:49.119043Z",
          "iopub.status.idle": "2022-07-23T11:38:49.793529Z",
          "shell.execute_reply": "2022-07-23T11:38:49.792486Z"
        },
        "id": "b21cd4c1",
        "outputId": "1ae0e290-71ba-475a-85c0-a55902f9b4c0",
        "papermill": {
          "duration": 0.788943,
          "end_time": "2022-07-23T11:38:49.796694",
          "exception": false,
          "start_time": "2022-07-23T11:38:49.007751",
          "status": "completed"
        },
        "tags": []
      },
      "outputs": [
        {
          "name": "stdout",
          "output_type": "stream",
          "text": [
            "Text query is yellow\n",
            "Photo query\n"
          ]
        },
        {
          "data": {
            "text/html": [
              "<img src=\"https://unsplash.com/photos/Ud_H_sPU85I/download?w=320\"/>"
            ],
            "text/plain": [
              "<IPython.core.display.Image object>"
            ]
          },
          "metadata": {},
          "output_type": "display_data"
        },
        {
          "name": "stdout",
          "output_type": "stream",
          "text": [
            "Result for text query + photo query\n"
          ]
        },
        {
          "data": {
            "text/html": [
              "<img src=\"https://unsplash.com/photos/dkq4nfmBtUk/download?w=320\"/>"
            ],
            "text/plain": [
              "<IPython.core.display.Image object>"
            ]
          },
          "metadata": {},
          "output_type": "display_data"
        },
        {
          "name": "stdout",
          "output_type": "stream",
          "text": [
            "\n"
          ]
        }
      ],
      "source": [
        "search_by_text_and_photo_in_unsplash(\"yellow\", \"Ud_H_sPU85I\")"
      ]
    },
    {
      "cell_type": "code",
      "execution_count": null,
      "id": "3577db70",
      "metadata": {
        "execution": {
          "iopub.execute_input": "2022-07-23T11:38:50.017949Z",
          "iopub.status.busy": "2022-07-23T11:38:50.017646Z",
          "iopub.status.idle": "2022-07-23T11:38:50.690855Z",
          "shell.execute_reply": "2022-07-23T11:38:50.689790Z"
        },
        "id": "3577db70",
        "outputId": "34f6763e-8ebd-4ebc-b1c1-9956d9953ef8",
        "papermill": {
          "duration": 0.785543,
          "end_time": "2022-07-23T11:38:50.692908",
          "exception": false,
          "start_time": "2022-07-23T11:38:49.907365",
          "status": "completed"
        },
        "tags": []
      },
      "outputs": [
        {
          "name": "stdout",
          "output_type": "stream",
          "text": [
            "Text query is blue\n",
            "Photo query\n"
          ]
        },
        {
          "data": {
            "text/html": [
              "<img src=\"https://unsplash.com/photos/Ud_H_sPU85I/download?w=320\"/>"
            ],
            "text/plain": [
              "<IPython.core.display.Image object>"
            ]
          },
          "metadata": {},
          "output_type": "display_data"
        },
        {
          "name": "stdout",
          "output_type": "stream",
          "text": [
            "Result for text query + photo query\n"
          ]
        },
        {
          "data": {
            "text/html": [
              "<img src=\"https://unsplash.com/photos/89mrtlB4cJ0/download?w=320\"/>"
            ],
            "text/plain": [
              "<IPython.core.display.Image object>"
            ]
          },
          "metadata": {},
          "output_type": "display_data"
        },
        {
          "name": "stdout",
          "output_type": "stream",
          "text": [
            "\n"
          ]
        }
      ],
      "source": [
        "search_by_text_and_photo_in_unsplash(\"blue\", \"Ud_H_sPU85I\")"
      ]
    },
    {
      "cell_type": "code",
      "execution_count": null,
      "id": "c1126188",
      "metadata": {
        "execution": {
          "iopub.execute_input": "2022-07-23T11:38:50.914344Z",
          "iopub.status.busy": "2022-07-23T11:38:50.914033Z",
          "iopub.status.idle": "2022-07-23T11:38:51.596177Z",
          "shell.execute_reply": "2022-07-23T11:38:51.595199Z"
        },
        "id": "c1126188",
        "outputId": "a52a0b94-10f4-49e5-f751-f3754c8889ee",
        "papermill": {
          "duration": 0.795585,
          "end_time": "2022-07-23T11:38:51.599138",
          "exception": false,
          "start_time": "2022-07-23T11:38:50.803553",
          "status": "completed"
        },
        "tags": []
      },
      "outputs": [
        {
          "name": "stdout",
          "output_type": "stream",
          "text": [
            "Text query is bird\n",
            "Photo query\n"
          ]
        },
        {
          "data": {
            "text/html": [
              "<img src=\"https://unsplash.com/photos/sYzFIusQp3Q/download?w=320\"/>"
            ],
            "text/plain": [
              "<IPython.core.display.Image object>"
            ]
          },
          "metadata": {},
          "output_type": "display_data"
        },
        {
          "name": "stdout",
          "output_type": "stream",
          "text": [
            "Result for text query + photo query\n"
          ]
        },
        {
          "data": {
            "text/html": [
              "<img src=\"https://unsplash.com/photos/GfU4i2BhzWQ/download?w=320\"/>"
            ],
            "text/plain": [
              "<IPython.core.display.Image object>"
            ]
          },
          "metadata": {},
          "output_type": "display_data"
        },
        {
          "name": "stdout",
          "output_type": "stream",
          "text": [
            "\n"
          ]
        }
      ],
      "source": [
        "search_by_text_and_photo_in_unsplash(\"bird\", \"sYzFIusQp3Q\")"
      ]
    },
    {
      "cell_type": "code",
      "execution_count": null,
      "id": "01db546f",
      "metadata": {
        "execution": {
          "iopub.execute_input": "2022-07-23T11:38:51.856604Z",
          "iopub.status.busy": "2022-07-23T11:38:51.856257Z",
          "iopub.status.idle": "2022-07-23T11:38:52.525469Z",
          "shell.execute_reply": "2022-07-23T11:38:52.524508Z"
        },
        "id": "01db546f",
        "outputId": "ebc4858a-742e-46a8-a576-f3fe8d9d7d7c",
        "papermill": {
          "duration": 0.781013,
          "end_time": "2022-07-23T11:38:52.528131",
          "exception": false,
          "start_time": "2022-07-23T11:38:51.747118",
          "status": "completed"
        },
        "tags": []
      },
      "outputs": [
        {
          "name": "stdout",
          "output_type": "stream",
          "text": [
            "Text query is big\n",
            "Photo query\n"
          ]
        },
        {
          "data": {
            "text/html": [
              "<img src=\"https://unsplash.com/photos/71xCMzMD1ts/download?w=320\"/>"
            ],
            "text/plain": [
              "<IPython.core.display.Image object>"
            ]
          },
          "metadata": {},
          "output_type": "display_data"
        },
        {
          "name": "stdout",
          "output_type": "stream",
          "text": [
            "Result for text query + photo query\n"
          ]
        },
        {
          "data": {
            "text/html": [
              "<img src=\"https://unsplash.com/photos/uPwWtazOsyg/download?w=320\"/>"
            ],
            "text/plain": [
              "<IPython.core.display.Image object>"
            ]
          },
          "metadata": {},
          "output_type": "display_data"
        },
        {
          "name": "stdout",
          "output_type": "stream",
          "text": [
            "\n"
          ]
        }
      ],
      "source": [
        "search_by_text_and_photo_in_unsplash(\"big\", \"71xCMzMD1ts\")"
      ]
    },
    {
      "cell_type": "code",
      "execution_count": null,
      "id": "02a01874",
      "metadata": {
        "execution": {
          "iopub.execute_input": "2022-07-23T11:38:52.750258Z",
          "iopub.status.busy": "2022-07-23T11:38:52.749666Z",
          "iopub.status.idle": "2022-07-23T11:38:53.429676Z",
          "shell.execute_reply": "2022-07-23T11:38:53.428623Z"
        },
        "id": "02a01874",
        "outputId": "818593e8-652b-49c7-b6a0-dbb671e70e86",
        "papermill": {
          "duration": 0.794499,
          "end_time": "2022-07-23T11:38:53.433215",
          "exception": false,
          "start_time": "2022-07-23T11:38:52.638716",
          "status": "completed"
        },
        "tags": []
      },
      "outputs": [
        {
          "name": "stdout",
          "output_type": "stream",
          "text": [
            "Text query is in the sea\n",
            "Photo query\n"
          ]
        },
        {
          "data": {
            "text/html": [
              "<img src=\"https://unsplash.com/photos/BLTcKiKXbzU/download?w=320\"/>"
            ],
            "text/plain": [
              "<IPython.core.display.Image object>"
            ]
          },
          "metadata": {},
          "output_type": "display_data"
        },
        {
          "name": "stdout",
          "output_type": "stream",
          "text": [
            "Result for text query + photo query\n"
          ]
        },
        {
          "data": {
            "text/html": [
              "<img src=\"https://unsplash.com/photos/id_Rjz1bsoI/download?w=320\"/>"
            ],
            "text/plain": [
              "<IPython.core.display.Image object>"
            ]
          },
          "metadata": {},
          "output_type": "display_data"
        },
        {
          "name": "stdout",
          "output_type": "stream",
          "text": [
            "\n"
          ]
        }
      ],
      "source": [
        "search_by_text_and_photo_in_unsplash(\"in the sea\", \"BLTcKiKXbzU\")"
      ]
    },
    {
      "cell_type": "markdown",
      "id": "6ad56bcf",
      "metadata": {
        "id": "6ad56bcf",
        "papermill": {
          "duration": 0.109439,
          "end_time": "2022-07-23T11:38:53.881413",
          "exception": false,
          "start_time": "2022-07-23T11:38:53.771974",
          "status": "completed"
        },
        "tags": []
      },
      "source": [
        "## Final words"
      ]
    }
  ],
  "metadata": {
    "accelerator": "GPU",
    "colab": {
      "collapsed_sections": [
        "6ad56bcf"
      ],
      "provenance": []
    },
    "gpuClass": "standard",
    "kernelspec": {
      "display_name": "Python 3.9.0 ('clip')",
      "language": "python",
      "name": "python3"
    },
    "language_info": {
      "codemirror_mode": {
        "name": "ipython",
        "version": 3
      },
      "file_extension": ".py",
      "mimetype": "text/x-python",
      "name": "python",
      "nbconvert_exporter": "python",
      "pygments_lexer": "ipython3",
      "version": "3.9.0"
    },
    "papermill": {
      "default_parameters": {},
      "duration": 986.532655,
      "end_time": "2022-07-23T11:38:55.717378",
      "environment_variables": {},
      "exception": null,
      "input_path": "__notebook__.ipynb",
      "output_path": "__notebook__.ipynb",
      "parameters": {},
      "start_time": "2022-07-23T11:22:29.184723",
      "version": "2.3.4"
    },
    "vscode": {
      "interpreter": {
        "hash": "2000b4bf9fe5378c38ff083b8b9710298215163497b55b3a4230f7e565fd5daf"
      }
    },
    "widgets": {
      "application/vnd.jupyter.widget-state+json": {
        "0a950b3353934829af06bfaa95d75671": {
          "model_module": "@jupyter-widgets/controls",
          "model_module_version": "1.5.0",
          "model_name": "DescriptionStyleModel",
          "state": {
            "_model_module": "@jupyter-widgets/controls",
            "_model_module_version": "1.5.0",
            "_model_name": "DescriptionStyleModel",
            "_view_count": null,
            "_view_module": "@jupyter-widgets/base",
            "_view_module_version": "1.2.0",
            "_view_name": "StyleView",
            "description_width": ""
          }
        },
        "1600184df8fa4859af50d83c3e374353": {
          "model_module": "@jupyter-widgets/controls",
          "model_module_version": "1.5.0",
          "model_name": "FloatProgressModel",
          "state": {
            "_dom_classes": [],
            "_model_module": "@jupyter-widgets/controls",
            "_model_module_version": "1.5.0",
            "_model_name": "FloatProgressModel",
            "_view_count": null,
            "_view_module": "@jupyter-widgets/controls",
            "_view_module_version": "1.5.0",
            "_view_name": "ProgressView",
            "bar_style": "success",
            "description": "",
            "description_tooltip": null,
            "layout": "IPY_MODEL_89ac67f74bc349c181b52f5a63ce5ec0",
            "max": 501200538,
            "min": 0,
            "orientation": "horizontal",
            "style": "IPY_MODEL_1bb9a85c82c44f8fb62fffce0b214bab",
            "value": 501200538
          }
        },
        "1bb9a85c82c44f8fb62fffce0b214bab": {
          "model_module": "@jupyter-widgets/controls",
          "model_module_version": "1.5.0",
          "model_name": "ProgressStyleModel",
          "state": {
            "_model_module": "@jupyter-widgets/controls",
            "_model_module_version": "1.5.0",
            "_model_name": "ProgressStyleModel",
            "_view_count": null,
            "_view_module": "@jupyter-widgets/base",
            "_view_module_version": "1.2.0",
            "_view_name": "StyleView",
            "bar_color": null,
            "description_width": ""
          }
        },
        "23aed504800b4590bb3f238e6e2d3ef7": {
          "model_module": "@jupyter-widgets/controls",
          "model_module_version": "1.5.0",
          "model_name": "HBoxModel",
          "state": {
            "_dom_classes": [],
            "_model_module": "@jupyter-widgets/controls",
            "_model_module_version": "1.5.0",
            "_model_name": "HBoxModel",
            "_view_count": null,
            "_view_module": "@jupyter-widgets/controls",
            "_view_module_version": "1.5.0",
            "_view_name": "HBoxView",
            "box_style": "",
            "children": [
              "IPY_MODEL_35d3445a69b14f55b4239a1ac5fe41df",
              "IPY_MODEL_4bf4ea410e274a07b420d977070adb38",
              "IPY_MODEL_efb6e589405b4108a6506a51ae6b47bb"
            ],
            "layout": "IPY_MODEL_d5ae1f3eab9c4aeda682d5970d9920ad"
          }
        },
        "2ae6fbe7e7ae4c0a987cd9e5bed1948f": {
          "model_module": "@jupyter-widgets/base",
          "model_module_version": "1.2.0",
          "model_name": "LayoutModel",
          "state": {
            "_model_module": "@jupyter-widgets/base",
            "_model_module_version": "1.2.0",
            "_model_name": "LayoutModel",
            "_view_count": null,
            "_view_module": "@jupyter-widgets/base",
            "_view_module_version": "1.2.0",
            "_view_name": "LayoutView",
            "align_content": null,
            "align_items": null,
            "align_self": null,
            "border": null,
            "bottom": null,
            "display": null,
            "flex": null,
            "flex_flow": null,
            "grid_area": null,
            "grid_auto_columns": null,
            "grid_auto_flow": null,
            "grid_auto_rows": null,
            "grid_column": null,
            "grid_gap": null,
            "grid_row": null,
            "grid_template_areas": null,
            "grid_template_columns": null,
            "grid_template_rows": null,
            "height": null,
            "justify_content": null,
            "justify_items": null,
            "left": null,
            "margin": null,
            "max_height": null,
            "max_width": null,
            "min_height": null,
            "min_width": null,
            "object_fit": null,
            "object_position": null,
            "order": null,
            "overflow": null,
            "overflow_x": null,
            "overflow_y": null,
            "padding": null,
            "right": null,
            "top": null,
            "visibility": null,
            "width": null
          }
        },
        "35d3445a69b14f55b4239a1ac5fe41df": {
          "model_module": "@jupyter-widgets/controls",
          "model_module_version": "1.5.0",
          "model_name": "HTMLModel",
          "state": {
            "_dom_classes": [],
            "_model_module": "@jupyter-widgets/controls",
            "_model_module_version": "1.5.0",
            "_model_name": "HTMLModel",
            "_view_count": null,
            "_view_module": "@jupyter-widgets/controls",
            "_view_module_version": "1.5.0",
            "_view_name": "HTMLView",
            "description": "",
            "description_tooltip": null,
            "layout": "IPY_MODEL_aa6fcb5c677648a9a74203e9924b4783",
            "placeholder": "​",
            "style": "IPY_MODEL_ed29f33c1553458d8feaaa130f7e90d0",
            "value": "Downloading config.json: 100%"
          }
        },
        "4bf4ea410e274a07b420d977070adb38": {
          "model_module": "@jupyter-widgets/controls",
          "model_module_version": "1.5.0",
          "model_name": "FloatProgressModel",
          "state": {
            "_dom_classes": [],
            "_model_module": "@jupyter-widgets/controls",
            "_model_module_version": "1.5.0",
            "_model_name": "FloatProgressModel",
            "_view_count": null,
            "_view_module": "@jupyter-widgets/controls",
            "_view_module_version": "1.5.0",
            "_view_name": "ProgressView",
            "bar_style": "success",
            "description": "",
            "description_tooltip": null,
            "layout": "IPY_MODEL_f3471cb4bab8499d83e7b78a84faf376",
            "max": 481,
            "min": 0,
            "orientation": "horizontal",
            "style": "IPY_MODEL_63809fa9b6df4806b02a84ec02580b2b",
            "value": 481
          }
        },
        "57226f3c581541d792f964968dd884c5": {
          "model_module": "@jupyter-widgets/base",
          "model_module_version": "1.2.0",
          "model_name": "LayoutModel",
          "state": {
            "_model_module": "@jupyter-widgets/base",
            "_model_module_version": "1.2.0",
            "_model_name": "LayoutModel",
            "_view_count": null,
            "_view_module": "@jupyter-widgets/base",
            "_view_module_version": "1.2.0",
            "_view_name": "LayoutView",
            "align_content": null,
            "align_items": null,
            "align_self": null,
            "border": null,
            "bottom": null,
            "display": null,
            "flex": null,
            "flex_flow": null,
            "grid_area": null,
            "grid_auto_columns": null,
            "grid_auto_flow": null,
            "grid_auto_rows": null,
            "grid_column": null,
            "grid_gap": null,
            "grid_row": null,
            "grid_template_areas": null,
            "grid_template_columns": null,
            "grid_template_rows": null,
            "height": null,
            "justify_content": null,
            "justify_items": null,
            "left": null,
            "margin": null,
            "max_height": null,
            "max_width": null,
            "min_height": null,
            "min_width": null,
            "object_fit": null,
            "object_position": null,
            "order": null,
            "overflow": null,
            "overflow_x": null,
            "overflow_y": null,
            "padding": null,
            "right": null,
            "top": null,
            "visibility": null,
            "width": null
          }
        },
        "63809fa9b6df4806b02a84ec02580b2b": {
          "model_module": "@jupyter-widgets/controls",
          "model_module_version": "1.5.0",
          "model_name": "ProgressStyleModel",
          "state": {
            "_model_module": "@jupyter-widgets/controls",
            "_model_module_version": "1.5.0",
            "_model_name": "ProgressStyleModel",
            "_view_count": null,
            "_view_module": "@jupyter-widgets/base",
            "_view_module_version": "1.2.0",
            "_view_name": "StyleView",
            "bar_color": null,
            "description_width": ""
          }
        },
        "89ac67f74bc349c181b52f5a63ce5ec0": {
          "model_module": "@jupyter-widgets/base",
          "model_module_version": "1.2.0",
          "model_name": "LayoutModel",
          "state": {
            "_model_module": "@jupyter-widgets/base",
            "_model_module_version": "1.2.0",
            "_model_name": "LayoutModel",
            "_view_count": null,
            "_view_module": "@jupyter-widgets/base",
            "_view_module_version": "1.2.0",
            "_view_name": "LayoutView",
            "align_content": null,
            "align_items": null,
            "align_self": null,
            "border": null,
            "bottom": null,
            "display": null,
            "flex": null,
            "flex_flow": null,
            "grid_area": null,
            "grid_auto_columns": null,
            "grid_auto_flow": null,
            "grid_auto_rows": null,
            "grid_column": null,
            "grid_gap": null,
            "grid_row": null,
            "grid_template_areas": null,
            "grid_template_columns": null,
            "grid_template_rows": null,
            "height": null,
            "justify_content": null,
            "justify_items": null,
            "left": null,
            "margin": null,
            "max_height": null,
            "max_width": null,
            "min_height": null,
            "min_width": null,
            "object_fit": null,
            "object_position": null,
            "order": null,
            "overflow": null,
            "overflow_x": null,
            "overflow_y": null,
            "padding": null,
            "right": null,
            "top": null,
            "visibility": null,
            "width": null
          }
        },
        "8aee1995aab7416d906a51903ec9e16d": {
          "model_module": "@jupyter-widgets/controls",
          "model_module_version": "1.5.0",
          "model_name": "HTMLModel",
          "state": {
            "_dom_classes": [],
            "_model_module": "@jupyter-widgets/controls",
            "_model_module_version": "1.5.0",
            "_model_name": "HTMLModel",
            "_view_count": null,
            "_view_module": "@jupyter-widgets/controls",
            "_view_module_version": "1.5.0",
            "_view_name": "HTMLView",
            "description": "",
            "description_tooltip": null,
            "layout": "IPY_MODEL_aad53159aaaf47efa120d221007f1347",
            "placeholder": "​",
            "style": "IPY_MODEL_adff36d1c29a4a109800033a78825b72",
            "value": " 478M/478M [00:14&lt;00:00, 47.6MB/s]"
          }
        },
        "a480743c87e44923b5ad37af62f542dc": {
          "model_module": "@jupyter-widgets/controls",
          "model_module_version": "1.5.0",
          "model_name": "DescriptionStyleModel",
          "state": {
            "_model_module": "@jupyter-widgets/controls",
            "_model_module_version": "1.5.0",
            "_model_name": "DescriptionStyleModel",
            "_view_count": null,
            "_view_module": "@jupyter-widgets/base",
            "_view_module_version": "1.2.0",
            "_view_name": "StyleView",
            "description_width": ""
          }
        },
        "aa6fcb5c677648a9a74203e9924b4783": {
          "model_module": "@jupyter-widgets/base",
          "model_module_version": "1.2.0",
          "model_name": "LayoutModel",
          "state": {
            "_model_module": "@jupyter-widgets/base",
            "_model_module_version": "1.2.0",
            "_model_name": "LayoutModel",
            "_view_count": null,
            "_view_module": "@jupyter-widgets/base",
            "_view_module_version": "1.2.0",
            "_view_name": "LayoutView",
            "align_content": null,
            "align_items": null,
            "align_self": null,
            "border": null,
            "bottom": null,
            "display": null,
            "flex": null,
            "flex_flow": null,
            "grid_area": null,
            "grid_auto_columns": null,
            "grid_auto_flow": null,
            "grid_auto_rows": null,
            "grid_column": null,
            "grid_gap": null,
            "grid_row": null,
            "grid_template_areas": null,
            "grid_template_columns": null,
            "grid_template_rows": null,
            "height": null,
            "justify_content": null,
            "justify_items": null,
            "left": null,
            "margin": null,
            "max_height": null,
            "max_width": null,
            "min_height": null,
            "min_width": null,
            "object_fit": null,
            "object_position": null,
            "order": null,
            "overflow": null,
            "overflow_x": null,
            "overflow_y": null,
            "padding": null,
            "right": null,
            "top": null,
            "visibility": null,
            "width": null
          }
        },
        "aad53159aaaf47efa120d221007f1347": {
          "model_module": "@jupyter-widgets/base",
          "model_module_version": "1.2.0",
          "model_name": "LayoutModel",
          "state": {
            "_model_module": "@jupyter-widgets/base",
            "_model_module_version": "1.2.0",
            "_model_name": "LayoutModel",
            "_view_count": null,
            "_view_module": "@jupyter-widgets/base",
            "_view_module_version": "1.2.0",
            "_view_name": "LayoutView",
            "align_content": null,
            "align_items": null,
            "align_self": null,
            "border": null,
            "bottom": null,
            "display": null,
            "flex": null,
            "flex_flow": null,
            "grid_area": null,
            "grid_auto_columns": null,
            "grid_auto_flow": null,
            "grid_auto_rows": null,
            "grid_column": null,
            "grid_gap": null,
            "grid_row": null,
            "grid_template_areas": null,
            "grid_template_columns": null,
            "grid_template_rows": null,
            "height": null,
            "justify_content": null,
            "justify_items": null,
            "left": null,
            "margin": null,
            "max_height": null,
            "max_width": null,
            "min_height": null,
            "min_width": null,
            "object_fit": null,
            "object_position": null,
            "order": null,
            "overflow": null,
            "overflow_x": null,
            "overflow_y": null,
            "padding": null,
            "right": null,
            "top": null,
            "visibility": null,
            "width": null
          }
        },
        "adff36d1c29a4a109800033a78825b72": {
          "model_module": "@jupyter-widgets/controls",
          "model_module_version": "1.5.0",
          "model_name": "DescriptionStyleModel",
          "state": {
            "_model_module": "@jupyter-widgets/controls",
            "_model_module_version": "1.5.0",
            "_model_name": "DescriptionStyleModel",
            "_view_count": null,
            "_view_module": "@jupyter-widgets/base",
            "_view_module_version": "1.2.0",
            "_view_name": "StyleView",
            "description_width": ""
          }
        },
        "ae5a17eff4c142caaf1767b37c89b958": {
          "model_module": "@jupyter-widgets/base",
          "model_module_version": "1.2.0",
          "model_name": "LayoutModel",
          "state": {
            "_model_module": "@jupyter-widgets/base",
            "_model_module_version": "1.2.0",
            "_model_name": "LayoutModel",
            "_view_count": null,
            "_view_module": "@jupyter-widgets/base",
            "_view_module_version": "1.2.0",
            "_view_name": "LayoutView",
            "align_content": null,
            "align_items": null,
            "align_self": null,
            "border": null,
            "bottom": null,
            "display": null,
            "flex": null,
            "flex_flow": null,
            "grid_area": null,
            "grid_auto_columns": null,
            "grid_auto_flow": null,
            "grid_auto_rows": null,
            "grid_column": null,
            "grid_gap": null,
            "grid_row": null,
            "grid_template_areas": null,
            "grid_template_columns": null,
            "grid_template_rows": null,
            "height": null,
            "justify_content": null,
            "justify_items": null,
            "left": null,
            "margin": null,
            "max_height": null,
            "max_width": null,
            "min_height": null,
            "min_width": null,
            "object_fit": null,
            "object_position": null,
            "order": null,
            "overflow": null,
            "overflow_x": null,
            "overflow_y": null,
            "padding": null,
            "right": null,
            "top": null,
            "visibility": null,
            "width": null
          }
        },
        "d5ae1f3eab9c4aeda682d5970d9920ad": {
          "model_module": "@jupyter-widgets/base",
          "model_module_version": "1.2.0",
          "model_name": "LayoutModel",
          "state": {
            "_model_module": "@jupyter-widgets/base",
            "_model_module_version": "1.2.0",
            "_model_name": "LayoutModel",
            "_view_count": null,
            "_view_module": "@jupyter-widgets/base",
            "_view_module_version": "1.2.0",
            "_view_name": "LayoutView",
            "align_content": null,
            "align_items": null,
            "align_self": null,
            "border": null,
            "bottom": null,
            "display": null,
            "flex": null,
            "flex_flow": null,
            "grid_area": null,
            "grid_auto_columns": null,
            "grid_auto_flow": null,
            "grid_auto_rows": null,
            "grid_column": null,
            "grid_gap": null,
            "grid_row": null,
            "grid_template_areas": null,
            "grid_template_columns": null,
            "grid_template_rows": null,
            "height": null,
            "justify_content": null,
            "justify_items": null,
            "left": null,
            "margin": null,
            "max_height": null,
            "max_width": null,
            "min_height": null,
            "min_width": null,
            "object_fit": null,
            "object_position": null,
            "order": null,
            "overflow": null,
            "overflow_x": null,
            "overflow_y": null,
            "padding": null,
            "right": null,
            "top": null,
            "visibility": null,
            "width": null
          }
        },
        "eade75ca00fe4a22b91f5a3e66a9f0e3": {
          "model_module": "@jupyter-widgets/controls",
          "model_module_version": "1.5.0",
          "model_name": "HBoxModel",
          "state": {
            "_dom_classes": [],
            "_model_module": "@jupyter-widgets/controls",
            "_model_module_version": "1.5.0",
            "_model_name": "HBoxModel",
            "_view_count": null,
            "_view_module": "@jupyter-widgets/controls",
            "_view_module_version": "1.5.0",
            "_view_name": "HBoxView",
            "box_style": "",
            "children": [
              "IPY_MODEL_fabb4917dd1047c7a9e6623b9d4647d2",
              "IPY_MODEL_1600184df8fa4859af50d83c3e374353",
              "IPY_MODEL_8aee1995aab7416d906a51903ec9e16d"
            ],
            "layout": "IPY_MODEL_2ae6fbe7e7ae4c0a987cd9e5bed1948f"
          }
        },
        "ed29f33c1553458d8feaaa130f7e90d0": {
          "model_module": "@jupyter-widgets/controls",
          "model_module_version": "1.5.0",
          "model_name": "DescriptionStyleModel",
          "state": {
            "_model_module": "@jupyter-widgets/controls",
            "_model_module_version": "1.5.0",
            "_model_name": "DescriptionStyleModel",
            "_view_count": null,
            "_view_module": "@jupyter-widgets/base",
            "_view_module_version": "1.2.0",
            "_view_name": "StyleView",
            "description_width": ""
          }
        },
        "efb6e589405b4108a6506a51ae6b47bb": {
          "model_module": "@jupyter-widgets/controls",
          "model_module_version": "1.5.0",
          "model_name": "HTMLModel",
          "state": {
            "_dom_classes": [],
            "_model_module": "@jupyter-widgets/controls",
            "_model_module_version": "1.5.0",
            "_model_name": "HTMLModel",
            "_view_count": null,
            "_view_module": "@jupyter-widgets/controls",
            "_view_module_version": "1.5.0",
            "_view_name": "HTMLView",
            "description": "",
            "description_tooltip": null,
            "layout": "IPY_MODEL_57226f3c581541d792f964968dd884c5",
            "placeholder": "​",
            "style": "IPY_MODEL_0a950b3353934829af06bfaa95d75671",
            "value": " 481/481 [00:00&lt;00:00, 14.5kB/s]"
          }
        },
        "f3471cb4bab8499d83e7b78a84faf376": {
          "model_module": "@jupyter-widgets/base",
          "model_module_version": "1.2.0",
          "model_name": "LayoutModel",
          "state": {
            "_model_module": "@jupyter-widgets/base",
            "_model_module_version": "1.2.0",
            "_model_name": "LayoutModel",
            "_view_count": null,
            "_view_module": "@jupyter-widgets/base",
            "_view_module_version": "1.2.0",
            "_view_name": "LayoutView",
            "align_content": null,
            "align_items": null,
            "align_self": null,
            "border": null,
            "bottom": null,
            "display": null,
            "flex": null,
            "flex_flow": null,
            "grid_area": null,
            "grid_auto_columns": null,
            "grid_auto_flow": null,
            "grid_auto_rows": null,
            "grid_column": null,
            "grid_gap": null,
            "grid_row": null,
            "grid_template_areas": null,
            "grid_template_columns": null,
            "grid_template_rows": null,
            "height": null,
            "justify_content": null,
            "justify_items": null,
            "left": null,
            "margin": null,
            "max_height": null,
            "max_width": null,
            "min_height": null,
            "min_width": null,
            "object_fit": null,
            "object_position": null,
            "order": null,
            "overflow": null,
            "overflow_x": null,
            "overflow_y": null,
            "padding": null,
            "right": null,
            "top": null,
            "visibility": null,
            "width": null
          }
        },
        "fabb4917dd1047c7a9e6623b9d4647d2": {
          "model_module": "@jupyter-widgets/controls",
          "model_module_version": "1.5.0",
          "model_name": "HTMLModel",
          "state": {
            "_dom_classes": [],
            "_model_module": "@jupyter-widgets/controls",
            "_model_module_version": "1.5.0",
            "_model_name": "HTMLModel",
            "_view_count": null,
            "_view_module": "@jupyter-widgets/controls",
            "_view_module_version": "1.5.0",
            "_view_name": "HTMLView",
            "description": "",
            "description_tooltip": null,
            "layout": "IPY_MODEL_ae5a17eff4c142caaf1767b37c89b958",
            "placeholder": "​",
            "style": "IPY_MODEL_a480743c87e44923b5ad37af62f542dc",
            "value": "Downloading pytorch_model.bin: 100%"
          }
        }
      }
    }
  },
  "nbformat": 4,
  "nbformat_minor": 5
}
